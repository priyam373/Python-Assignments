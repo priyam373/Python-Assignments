{
 "cells": [
  {
   "cell_type": "markdown",
   "id": "eaf42013",
   "metadata": {},
   "source": [
    "Question 1:\n",
    "\n",
    "Define a class with a generator which can iterate the numbers, which are divisible by 7, between a given range 0 and n.\n"
   ]
  },
  {
   "cell_type": "code",
   "execution_count": 9,
   "id": "cad603d6",
   "metadata": {},
   "outputs": [],
   "source": [
    "#Ans\n",
    "class gen():\n",
    "    def __init__(self,n):\n",
    "        self.n=n\n",
    "    def create_gen(self):\n",
    "        for i in range(self.n):\n",
    "            if i%7==0:\n",
    "                yield i\n",
    "            "
   ]
  },
  {
   "cell_type": "code",
   "execution_count": 10,
   "id": "daa5c3fa",
   "metadata": {},
   "outputs": [],
   "source": [
    "g=gen(22)"
   ]
  },
  {
   "cell_type": "code",
   "execution_count": 12,
   "id": "ffb26bf8",
   "metadata": {},
   "outputs": [
    {
     "name": "stdout",
     "output_type": "stream",
     "text": [
      "0\n",
      "7\n",
      "14\n",
      "21\n"
     ]
    }
   ],
   "source": [
    "for i in g.create_gen():\n",
    "    print(i)"
   ]
  },
  {
   "cell_type": "markdown",
   "id": "cece081f",
   "metadata": {},
   "source": [
    "Question 2:\n",
    "Write a program to compute the frequency of the words from the input. The output should output after sorting the key alphanumerically. \n",
    "\n",
    "Suppose the following input is supplied to the program:\n",
    "\n",
    "New to Python or choosing between Python 2 and Python 3? Read Python 2 or Python 3.\n",
    "\n",
    "Then, the output should be:\n",
    "\n",
    "2:2\n",
    "\n",
    "3.:1\n",
    "\n",
    "3?:1\n",
    "\n",
    "New:1\n",
    "\n",
    "Python:5\n",
    "\n",
    "Read:1\n",
    "\n",
    "and:1\n",
    "\n",
    "between:1\n",
    "\n",
    "choosing:1\n",
    "\n",
    "or:2\n",
    "\n",
    "to:1\n"
   ]
  },
  {
   "cell_type": "code",
   "execution_count": 41,
   "id": "22560254",
   "metadata": {},
   "outputs": [],
   "source": [
    "#Ans 2\n",
    "def freq_of_words(str):\n",
    "\n",
    "    l=str.split()\n",
    "    l=sorted(l)\n",
    "    l2=[]\n",
    "    for i in l:\n",
    "        a=l.count(i)\n",
    "        if i not in l2:\n",
    "            print(i,':',l.count(i))\n",
    "        l2.append(i)\n"
   ]
  },
  {
   "cell_type": "markdown",
   "id": "bcadc71c",
   "metadata": {},
   "source": [
    "Question 3:\n",
    "\n",
    "\n",
    "\n",
    "Define a class Person and its two child classes: Male and Female. All classes have a method \"getGender\" which can print \"Male\" for Male class and \"Female\" for Female class.\n"
   ]
  },
  {
   "cell_type": "code",
   "execution_count": 93,
   "id": "93b0ba04",
   "metadata": {},
   "outputs": [],
   "source": [
    "#Ans 3\n",
    "\n",
    "class Person:\n",
    "    def getGender(self):\n",
    "        pass\n",
    "class Male(Person):\n",
    "    def getGender(self):\n",
    "        return'Male'\n",
    "class Female(Person):\n",
    "    def getGender(self):\n",
    "        return'Female'"
   ]
  },
  {
   "cell_type": "code",
   "execution_count": 97,
   "id": "dd3c8505",
   "metadata": {},
   "outputs": [
    {
     "data": {
      "text/plain": [
       "('Male', 'Female')"
      ]
     },
     "execution_count": 97,
     "metadata": {},
     "output_type": "execute_result"
    }
   ],
   "source": [
    "obj1=Male()\n",
    "obj2=Female()\n",
    "obj1.getGender(),obj2.getGender()"
   ]
  },
  {
   "cell_type": "markdown",
   "id": "52cdb765",
   "metadata": {},
   "source": [
    "Please write a program to generate all sentences where subject is in [\"I\", \"You\"] and verb is in [\"Play\", \"Love\"] and the object is in [\"Hockey\",\"Football\"]."
   ]
  },
  {
   "cell_type": "code",
   "execution_count": 45,
   "id": "9cf0b9a8",
   "metadata": {},
   "outputs": [],
   "source": [
    "#Ans 4\n",
    "subject=[\"I\", \"You\"]\n",
    "verb=[\"Play\", \"Love\"]\n",
    "obj=[\"Hockey\",\"Football\"]\n",
    "\n",
    "for i in subject:\n",
    "    for j in verb:\n",
    "        for k in obj:\n",
    "            print(f'{i} {j} {k}')"
   ]
  },
  {
   "cell_type": "code",
   "execution_count": 54,
   "id": "f0a52efa",
   "metadata": {},
   "outputs": [
    {
     "name": "stdout",
     "output_type": "stream",
     "text": [
      "I Play Hockey\n",
      "I Play Football\n",
      "I Love Hockey\n",
      "I Love Football\n",
      "You Play Hockey\n",
      "You Play Football\n",
      "You Love Hockey\n",
      "You Love Football\n"
     ]
    }
   ],
   "source": []
  },
  {
   "cell_type": "markdown",
   "id": "bf3d4c7c",
   "metadata": {},
   "source": [
    "Question 5:\n",
    "Please write a program to compress and decompress the string \"hello world!hello world!hello world!hello world!\".\n"
   ]
  },
  {
   "cell_type": "code",
   "execution_count": 67,
   "id": "a4127173",
   "metadata": {},
   "outputs": [
    {
     "data": {
      "text/plain": [
       "81"
      ]
     },
     "execution_count": 67,
     "metadata": {},
     "output_type": "execute_result"
    }
   ],
   "source": [
    "#Ans 5\n",
    "import zlib,sys\n",
    "str=\"hello world!hello world!hello world!hello world!\"\n",
    "str=str.encode()\n",
    "sys.getsizeof(str)"
   ]
  },
  {
   "cell_type": "code",
   "execution_count": 66,
   "id": "738657b4",
   "metadata": {},
   "outputs": [
    {
     "data": {
      "text/plain": [
       "56"
      ]
     },
     "execution_count": 66,
     "metadata": {},
     "output_type": "execute_result"
    }
   ],
   "source": [
    "compress=zlib.compress(str)\n",
    "sys.getsizeof(compress)"
   ]
  },
  {
   "cell_type": "code",
   "execution_count": 69,
   "id": "58d22b4a",
   "metadata": {},
   "outputs": [
    {
     "data": {
      "text/plain": [
       "81"
      ]
     },
     "execution_count": 69,
     "metadata": {},
     "output_type": "execute_result"
    }
   ],
   "source": [
    "decompress=zlib.decompress(compress)\n",
    "sys.getsizeof(decompress)"
   ]
  },
  {
   "cell_type": "markdown",
   "id": "e464a305",
   "metadata": {},
   "source": [
    "Question 6:\n",
    "Please write a binary search function which searches an item in a sorted list. The function should return the index of element to be searched in the list.\n"
   ]
  },
  {
   "cell_type": "code",
   "execution_count": 70,
   "id": "0f475a8c",
   "metadata": {},
   "outputs": [],
   "source": [
    "#Ans 6\n",
    "def bin_search(l,item):\n",
    "    l=sorted(l)\n",
    "    if item in l:\n",
    "        return l.index(item)"
   ]
  },
  {
   "cell_type": "code",
   "execution_count": 75,
   "id": "ab4e0bc9",
   "metadata": {},
   "outputs": [],
   "source": [
    "l=[0,1,2,3,4,5]\n",
    "item=4"
   ]
  },
  {
   "cell_type": "code",
   "execution_count": 76,
   "id": "a449c138",
   "metadata": {},
   "outputs": [
    {
     "data": {
      "text/plain": [
       "4"
      ]
     },
     "execution_count": 76,
     "metadata": {},
     "output_type": "execute_result"
    }
   ],
   "source": [
    "bin_search(l,item)"
   ]
  },
  {
   "cell_type": "code",
   "execution_count": null,
   "id": "f90d3d1a",
   "metadata": {},
   "outputs": [],
   "source": []
  }
 ],
 "metadata": {
  "kernelspec": {
   "display_name": "Python 3 (ipykernel)",
   "language": "python",
   "name": "python3"
  },
  "language_info": {
   "codemirror_mode": {
    "name": "ipython",
    "version": 3
   },
   "file_extension": ".py",
   "mimetype": "text/x-python",
   "name": "python",
   "nbconvert_exporter": "python",
   "pygments_lexer": "ipython3",
   "version": "3.9.12"
  }
 },
 "nbformat": 4,
 "nbformat_minor": 5
}
