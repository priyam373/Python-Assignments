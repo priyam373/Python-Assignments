{
 "cells": [
  {
   "cell_type": "markdown",
   "id": "ed4d93dc",
   "metadata": {},
   "source": [
    "1. In what modes should the PdfFileReader() and PdfFileWriter() File objects will be opened?\n",
    "2. From a PdfFileReader object, how do you get a Page object for page 5?\n",
    "3. What PdfFileReader variable stores the number of pages in the PDF document?\n",
    "4. If a PdfFileReader object’s PDF is encrypted with the password swordfish, what must you do before you can obtain Page objects from it?\n",
    "5. What methods do you use to rotate a page?\n",
    "6. What is the difference between a Run object and a Paragraph object?\n",
    "7. How do you obtain a list of Paragraph objects for a Document object that’s stored in a variable named doc?\n",
    "8. What type of object has bold, underline, italic, strike, and outline variables?\n",
    "9. What is the difference between False, True, and None for the bold variable?\n",
    "10. How do you create a Document object for a new Word document?\n",
    "11. How do you add a paragraph with the text 'Hello, there!' to a Document object stored in a variable named doc?\n",
    "12. What integers represent the levels of headings available in Word documents?\n",
    "\n"
   ]
  },
  {
   "cell_type": "code",
   "execution_count": 3,
   "id": "3ef400ac",
   "metadata": {},
   "outputs": [
    {
     "name": "stdout",
     "output_type": "stream",
     "text": [
      "Collecting PyPDF2\n",
      "  Downloading PyPDF2-2.11.1-py3-none-any.whl (220 kB)\n",
      "Requirement already satisfied: typing-extensions>=3.10.0.0 in c:\\users\\chatu\\anaconda3\\lib\\site-packages (from PyPDF2) (4.1.1)\n",
      "Installing collected packages: PyPDF2\n",
      "Successfully installed PyPDF2-2.11.1\n"
     ]
    }
   ],
   "source": [
    "\n",
    "!pip install PyPDF2"
   ]
  },
  {
   "cell_type": "code",
   "execution_count": 5,
   "id": "0d42346d",
   "metadata": {},
   "outputs": [],
   "source": [
    "import PyPDF2 as p"
   ]
  },
  {
   "cell_type": "code",
   "execution_count": null,
   "id": "302a1a1d",
   "metadata": {},
   "outputs": [],
   "source": [
    "#Ans 1\n",
    "\"\"\"\n",
    "for reading and writing the object must be opened in rb\n",
    "and wb mode respectively. rb means reading in binary format and\n",
    "wb means writing in binary format\n",
    "\n",
    "\"\"\"\n"
   ]
  },
  {
   "cell_type": "code",
   "execution_count": 23,
   "id": "58b1d0f3",
   "metadata": {},
   "outputs": [],
   "source": [
    "#2. From a PdfFileReader object, how do you get a Page object for page 5?\n",
    "\n",
    "f=open('sample.pdf','rb')\n",
    "file=p.PdfFileReader(f)"
   ]
  },
  {
   "cell_type": "code",
   "execution_count": 24,
   "id": "138d86cf",
   "metadata": {},
   "outputs": [
    {
     "data": {
      "text/plain": [
       "PyPDF2._page.PageObject"
      ]
     },
     "execution_count": 24,
     "metadata": {},
     "output_type": "execute_result"
    }
   ],
   "source": [
    "type(file.getPage(5))"
   ]
  },
  {
   "cell_type": "code",
   "execution_count": 25,
   "id": "e7203106",
   "metadata": {},
   "outputs": [
    {
     "data": {
      "text/plain": [
       "10"
      ]
     },
     "execution_count": 25,
     "metadata": {},
     "output_type": "execute_result"
    }
   ],
   "source": [
    "#3. What PdfFileReader variable stores the number of pages in the PDF\n",
    "#document?\n",
    "\n",
    "#Ans:\n",
    "file.numPages"
   ]
  },
  {
   "cell_type": "code",
   "execution_count": 27,
   "id": "df865e12",
   "metadata": {},
   "outputs": [],
   "source": [
    "#4. \n",
    "\"\"\"\n",
    "If a PdfFileReader object’s PDF is encrypted with \n",
    "the password swordfish, what must you do before you \n",
    "can obtain Page objects from it?\n",
    "\n",
    "\"\"\"\n",
    "\n",
    "#Ans:\n",
    "\"\"\"\n",
    "what first we need to check is the file is encrypted.\n",
    "if yes, then we need to use the decrypt method and pass the password to decrypt it\n",
    "\"\"\"\n",
    "if file.is_encrypted==True:\n",
    "    file.decrypt('swordfish')"
   ]
  },
  {
   "cell_type": "code",
   "execution_count": 28,
   "id": "944e424f",
   "metadata": {},
   "outputs": [],
   "source": [
    "#5. What methods do you use to rotate a page?\n",
    "#rotateClockwise and rotate.CounterClockwise can be used to rotate the pages"
   ]
  },
  {
   "cell_type": "code",
   "execution_count": null,
   "id": "872d3bd3",
   "metadata": {},
   "outputs": [],
   "source": [
    "#6. What is the difference between a Run object and a Paragraph object?\n",
    "\"\"\"\n",
    "each paragraph object contains one or more run objects. a new run object\n",
    "is created whenever there is a change in text style in a paragraph.\n",
    "\n",
    "\"\"\""
   ]
  },
  {
   "cell_type": "code",
   "execution_count": 10,
   "id": "15cd4284",
   "metadata": {},
   "outputs": [
    {
     "data": {
      "text/plain": [
       "[<docx.text.paragraph.Paragraph at 0x205dd0f08e0>,\n",
       " <docx.text.paragraph.Paragraph at 0x205dd0f0c70>,\n",
       " <docx.text.paragraph.Paragraph at 0x205dd0f0820>,\n",
       " <docx.text.paragraph.Paragraph at 0x205dd0f0c40>,\n",
       " <docx.text.paragraph.Paragraph at 0x205dd0f0fd0>,\n",
       " <docx.text.paragraph.Paragraph at 0x205dd0f0f40>,\n",
       " <docx.text.paragraph.Paragraph at 0x205dd0f0c10>,\n",
       " <docx.text.paragraph.Paragraph at 0x205dd0f0eb0>,\n",
       " <docx.text.paragraph.Paragraph at 0x205dd0f0ca0>,\n",
       " <docx.text.paragraph.Paragraph at 0x205dd0f0df0>,\n",
       " <docx.text.paragraph.Paragraph at 0x205dd0f0cd0>,\n",
       " <docx.text.paragraph.Paragraph at 0x205dd13d790>,\n",
       " <docx.text.paragraph.Paragraph at 0x205dd13d880>]"
      ]
     },
     "execution_count": 10,
     "metadata": {},
     "output_type": "execute_result"
    }
   ],
   "source": [
    "\"\"\"\n",
    "7: How do you obtain a list of Paragraph objects\n",
    "for a Document object that’s stored in a variable named doc?\n",
    "\"\"\"\n",
    "#!pip install python-docx\n",
    "import docx\n",
    "doc=docx.Document('Assignment_12.docx')\n",
    "doc.paragraphs"
   ]
  },
  {
   "cell_type": "code",
   "execution_count": 3,
   "id": "a734fcc1",
   "metadata": {},
   "outputs": [],
   "source": [
    "#8: What type of object has \n",
    "#bold, underline, italic, strike, and outline variables?\n",
    "\n",
    "#Ans Run object"
   ]
  },
  {
   "cell_type": "code",
   "execution_count": 5,
   "id": "eecf6608",
   "metadata": {},
   "outputs": [
    {
     "data": {
      "text/plain": [
       "'C:\\\\Users\\\\chatu\\\\Dropbox\\\\Ineuron Data Science and ML Course\\\\Assignments\\\\Python Assignments\\\\Doc Assignment'"
      ]
     },
     "execution_count": 5,
     "metadata": {},
     "output_type": "execute_result"
    }
   ],
   "source": [
    "# 9 What is the difference \n",
    "# between False, True, and None for the bold variable?\n",
    "\n",
    "#Ans True: bold is enabled\n",
    "#False: bold is disabled\n",
    "#None:default value of the attribute"
   ]
  },
  {
   "cell_type": "code",
   "execution_count": null,
   "id": "2bce24f7",
   "metadata": {},
   "outputs": [],
   "source": [
    "#10 How do you create a Document object for a new Word document?\n",
    "\n",
    "doc=docx.Document('Assignment_12.docx')\n"
   ]
  },
  {
   "cell_type": "code",
   "execution_count": null,
   "id": "f71d6d57",
   "metadata": {},
   "outputs": [],
   "source": [
    "# 11 How do you add a paragraph with the text \n",
    "#'Hello, there!' to a Document object stored in a variable named doc?"
   ]
  },
  {
   "cell_type": "code",
   "execution_count": 14,
   "id": "6cb15a9b",
   "metadata": {},
   "outputs": [],
   "source": [
    "import docx\n",
    "doc = docx.Document('Assignment_12.docx')\n",
    "\n",
    "doc.add_paragraph('Hello there!')\n",
    "doc.save('Assignment_12.docx')"
   ]
  },
  {
   "cell_type": "code",
   "execution_count": null,
   "id": "3e0e1c48",
   "metadata": {},
   "outputs": [],
   "source": [
    "#What integers\n",
    "#represent the levels of headings available in Word documents?\n",
    "\n",
    "#Ans integer value from 0 to 4 in which 0 is used for the title."
   ]
  }
 ],
 "metadata": {
  "kernelspec": {
   "display_name": "Python 3 (ipykernel)",
   "language": "python",
   "name": "python3"
  },
  "language_info": {
   "codemirror_mode": {
    "name": "ipython",
    "version": 3
   },
   "file_extension": ".py",
   "mimetype": "text/x-python",
   "name": "python",
   "nbconvert_exporter": "python",
   "pygments_lexer": "ipython3",
   "version": "3.9.12"
  }
 },
 "nbformat": 4,
 "nbformat_minor": 5
}
