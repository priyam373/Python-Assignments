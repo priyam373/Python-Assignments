{
 "cells": [
  {
   "cell_type": "markdown",
   "id": "b56f1bc0",
   "metadata": {},
   "source": [
    "1.\tWrite a Python Program to Find LCM?\n",
    "2.\tWrite a Python Program to Find HCF?\n",
    "3.\tWrite a Python Program to Convert Decimal to Binary, Octal and Hexadecimal?\n",
    "4.\tWrite a Python Program To Find ASCII value of a character?\n",
    "5.\tWrite a Python Program to Make a Simple Calculator with 4 basic mathematical operations?\n"
   ]
  },
  {
   "cell_type": "code",
   "execution_count": 1,
   "id": "890f55d8",
   "metadata": {},
   "outputs": [],
   "source": [
    "\n",
    "import math"
   ]
  },
  {
   "cell_type": "code",
   "execution_count": 4,
   "id": "4c966c15",
   "metadata": {},
   "outputs": [
    {
     "data": {
      "text/plain": [
       "650"
      ]
     },
     "execution_count": 4,
     "metadata": {},
     "output_type": "execute_result"
    }
   ],
   "source": [
    "#Ans1\n",
    "math.lcm(50,65)"
   ]
  },
  {
   "cell_type": "code",
   "execution_count": 5,
   "id": "1a475d67",
   "metadata": {},
   "outputs": [
    {
     "data": {
      "text/plain": [
       "12"
      ]
     },
     "execution_count": 5,
     "metadata": {},
     "output_type": "execute_result"
    }
   ],
   "source": [
    "#Ans2: finding HCF and GCD\n",
    "math.gcd(48,36)"
   ]
  },
  {
   "cell_type": "code",
   "execution_count": 22,
   "id": "c29f1d42",
   "metadata": {},
   "outputs": [
    {
     "name": "stdout",
     "output_type": "stream",
     "text": [
      "Please enter the number to be converted into Binary 45\n",
      "Binary value is 101101\n",
      "Octal value is 0o55\n",
      "Hexadecimal value is 0x2d\n"
     ]
    }
   ],
   "source": [
    "#Ans3\n",
    "#conversion of decimal to binary, octal and hexadecimal\n",
    "b=int(input('Please enter the number to be converted into Binary '))\n",
    "a=bin(b)\n",
    "binary=a[2:len(a)]\n",
    "print('Binary value is', binary)\n",
    "Octal=oct(b)\n",
    "print('Octal value is', Octal)\n",
    "hexadecimal=hex(b)\n",
    "print('Hexadecimal value is', hexadecimal)"
   ]
  },
  {
   "cell_type": "code",
   "execution_count": 30,
   "id": "3f3cfdf0",
   "metadata": {},
   "outputs": [
    {
     "name": "stdout",
     "output_type": "stream",
     "text": [
      "Please enter a character for ASCII conversion a\n",
      "97\n"
     ]
    }
   ],
   "source": [
    "#Ans 4: Write a Python Program To Find ASCII value of a character?\n",
    "char=input('Please enter a character for ASCII conversion ')\n",
    "print(ord(char))"
   ]
  },
  {
   "cell_type": "code",
   "execution_count": 6,
   "id": "c90c335c",
   "metadata": {},
   "outputs": [],
   "source": [
    "#Ans5:Write a Python Program to Make a Simple Calculator with 4 basic mathematical operations?\n",
    "\n",
    "def calculator():\n",
    "    k=0\n",
    "    m=1\n",
    "    l=1\n",
    "    print('press 1 for addition')\n",
    "    print('press 2 for subtraction')\n",
    "    print('press 3 for division')\n",
    "    print('press 4 for multiplication')\n",
    "    num=int(input())\n",
    "    while (num>4) or (num<0):\n",
    "        num=int(input('please enter a number between 1 and 4: '))\n",
    "    num_of_elements = int(input('Enter the number of elements you want to perform the operations on'))\n",
    "    \n",
    "    if num==1:\n",
    "        for i in range(num_of_elements):\n",
    "        \n",
    "            print(f'please enter the {i+1} number')\n",
    "            j=int(input())\n",
    "            sum=k+j\n",
    "            k=sum\n",
    "        print(f'The addition of the numbers is {sum}')\n",
    "        \n",
    "    if num==2:\n",
    "        for i in range(num_of_elements):\n",
    "        \n",
    "            print(f'please enter the {i+1} number')\n",
    "            j=int(input())\n",
    "            sub=j-k\n",
    "            k=sub\n",
    "        print(f'The subtraction of the numbers is {sub}')\n",
    "    if num==4:\n",
    "        for i in range(num_of_elements):\n",
    "        \n",
    "            print(f'please enter the {i+1} number')\n",
    "            j=int(input())\n",
    "            mult=m*j\n",
    "            m=mult\n",
    "        print(f'the multiplication of the numbers is {mult}')\n",
    "    if num==3:\n",
    "        for i in range(num_of_elements):\n",
    "        \n",
    "            print(f'please enter the {i+1} number')\n",
    "            j=int(input())\n",
    "            div=j/l\n",
    "            l=div\n",
    "        print(f'The division of the numbers is {div}')\n",
    "        \n",
    "# this solution is not foolproof but i was attempting to take the dynamic variables and perform calculations on them.\n",
    "        "
   ]
  },
  {
   "cell_type": "code",
   "execution_count": 7,
   "id": "c36bf2e0",
   "metadata": {},
   "outputs": [
    {
     "name": "stdout",
     "output_type": "stream",
     "text": [
      "press 1 for addition\n",
      "press 2 for subtraction\n",
      "press 3 for division\n",
      "press 4 for multiplication\n",
      "1\n",
      "Enter the number of elements you want to perform the operations on2\n",
      "please enter the 1 number\n",
      "2\n",
      "please enter the 2 number\n",
      "2\n",
      "The addition of the numbers is 4\n"
     ]
    }
   ],
   "source": [
    "calculator()"
   ]
  },
  {
   "cell_type": "code",
   "execution_count": null,
   "id": "9cea9a3f",
   "metadata": {},
   "outputs": [],
   "source": []
  }
 ],
 "metadata": {
  "kernelspec": {
   "display_name": "Python 3 (ipykernel)",
   "language": "python",
   "name": "python3"
  },
  "language_info": {
   "codemirror_mode": {
    "name": "ipython",
    "version": 3
   },
   "file_extension": ".py",
   "mimetype": "text/x-python",
   "name": "python",
   "nbconvert_exporter": "python",
   "pygments_lexer": "ipython3",
   "version": "3.9.12"
  }
 },
 "nbformat": 4,
 "nbformat_minor": 5
}
