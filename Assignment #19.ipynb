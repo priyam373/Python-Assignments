{
 "cells": [
  {
   "cell_type": "code",
   "execution_count": 49,
   "id": "74faa7e8",
   "metadata": {},
   "outputs": [],
   "source": [
    "#Ans 1\n",
    "\"\"\"\n",
    "1. Make a class called Thing with no contents and print it. \n",
    "Then, create an object called example from this class and also print it. Are the printed values the same or different?\n",
    "\"\"\"\n",
    "class Thing():\n",
    "    pass"
   ]
  },
  {
   "cell_type": "code",
   "execution_count": 50,
   "id": "02c439e0",
   "metadata": {},
   "outputs": [
    {
     "name": "stdout",
     "output_type": "stream",
     "text": [
      "<class '__main__.Thing'>\n",
      "<__main__.Thing object at 0x00000132ECB41EB0>\n"
     ]
    }
   ],
   "source": [
    "print(Thing)\n",
    "example=Thing()\n",
    "print(example)\n",
    "# the printed values are different. when you print the 'Thing' class then it shows the main class and then the 'Thing'\n",
    "# class and when you print the object then it shows the main class and subclass along with the memory location of the object."
   ]
  },
  {
   "cell_type": "code",
   "execution_count": 33,
   "id": "6398d30f",
   "metadata": {},
   "outputs": [],
   "source": [
    "#Ans 2\n",
    "\"\"\"\n",
    "Create a new class called Thing2 and add the value 'abc' to the letters class attribute. Letters should be printed.\n",
    "\"\"\"\n",
    "class Thing2:\n",
    "    def __init__(self,letters='abc'):\n",
    "        self.letters=letters\n",
    "        print(self.letters)"
   ]
  },
  {
   "cell_type": "code",
   "execution_count": 34,
   "id": "6d0a2516",
   "metadata": {},
   "outputs": [
    {
     "name": "stdout",
     "output_type": "stream",
     "text": [
      "abc\n"
     ]
    }
   ],
   "source": [
    "t=Thing2()"
   ]
  },
  {
   "cell_type": "code",
   "execution_count": 41,
   "id": "b9e734a1",
   "metadata": {},
   "outputs": [],
   "source": [
    "#Q3:\n",
    "\"\"\"\n",
    "Make yet another class called, of course, Thing3. \n",
    "This time, assign the value 'xyz' to an instance (object) attribute called letters. \n",
    "Print letters. Do you need to make an object from the class to do this?\n",
    "\"\"\"\n",
    "\n",
    "#Ans \n",
    "class Thing3:\n",
    "    def __init__(self,letters='abc'):\n",
    "        self.letters=letters\n",
    "        print(self.letters)\n",
    "        \n",
    "        \n",
    "    "
   ]
  },
  {
   "cell_type": "code",
   "execution_count": 44,
   "id": "1e56c2bb",
   "metadata": {},
   "outputs": [
    {
     "name": "stdout",
     "output_type": "stream",
     "text": [
      "xyz\n"
     ]
    }
   ],
   "source": [
    "t=Thing3(letters='xyz')\n",
    "# yes you have to create an instance to be able to print the class attribute\n"
   ]
  },
  {
   "cell_type": "code",
   "execution_count": 43,
   "id": "7b4276b7",
   "metadata": {},
   "outputs": [],
   "source": [
    "#Ans 4\n",
    "\"\"\"\n",
    "Create an Element class with the instance attributes name, symbol, and number. \n",
    "Create a class object with the values 'Hydrogen,' 'H,' and 1.\n",
    "\"\"\"\n",
    "\n",
    "class Element:\n",
    "    def __init__(self,name,symbol,number):\n",
    "        self.name=name\n",
    "        self.symbol=symbol\n",
    "        self.number=number"
   ]
  },
  {
   "cell_type": "code",
   "execution_count": 22,
   "id": "f75ce859",
   "metadata": {},
   "outputs": [],
   "source": [
    "ele=Element('Hydrogen','H',1)"
   ]
  },
  {
   "cell_type": "code",
   "execution_count": 30,
   "id": "7e1351f8",
   "metadata": {},
   "outputs": [],
   "source": [
    "#Ans 5\n",
    "\"\"\"\n",
    "Make a dictionary with these keys and values: 'name': 'Hydrogen', 'symbol': 'H', 'number': 1.\n",
    "Then, create an object called hydrogen from class Element using this dictionary.\n",
    "\n",
    "\"\"\"\n",
    "\n",
    "\n",
    "d={'name':'Hydrogen','symbol':'H','number':1}\n",
    "hydrogen=Element(d['name'],d['symbol'],d['number'])"
   ]
  },
  {
   "cell_type": "code",
   "execution_count": 31,
   "id": "f62a7cfe",
   "metadata": {},
   "outputs": [
    {
     "data": {
      "text/plain": [
       "'Hydrogen'"
      ]
     },
     "execution_count": 31,
     "metadata": {},
     "output_type": "execute_result"
    }
   ],
   "source": [
    "hydrogen.name"
   ]
  },
  {
   "cell_type": "code",
   "execution_count": 28,
   "id": "43d46398",
   "metadata": {},
   "outputs": [],
   "source": [
    "#Q6\n",
    "\"\"\"\n",
    "For the Element class, define a method called dump() that prints the values of \n",
    "the object’s attributes (name, symbol, and number). \n",
    "Create the hydrogen object from this new definition and use dump() to print its attributes.\n",
    "\n",
    "\"\"\"\n",
    "\n",
    "class Element:\n",
    "    def __init__(self,name,symbol,number):\n",
    "        self.name=name\n",
    "        self.symbol=symbol\n",
    "        self.number=number\n",
    "        \n",
    "    def dump(self):\n",
    "        print(self.name,'\\n',self.symbol,'\\n',self.number)"
   ]
  },
  {
   "cell_type": "code",
   "execution_count": 29,
   "id": "8d165227",
   "metadata": {},
   "outputs": [],
   "source": [
    "hydrogen=Element('Hydrogen','H',1)"
   ]
  },
  {
   "cell_type": "code",
   "execution_count": 30,
   "id": "dd2d3eb1",
   "metadata": {},
   "outputs": [
    {
     "name": "stdout",
     "output_type": "stream",
     "text": [
      "Hydrogen \n",
      " H \n",
      " 1\n"
     ]
    }
   ],
   "source": [
    "hydrogen.dump()"
   ]
  },
  {
   "cell_type": "code",
   "execution_count": 48,
   "id": "a165d6b9",
   "metadata": {},
   "outputs": [],
   "source": [
    "#Q7\n",
    "\"\"\"\n",
    "Call print(hydrogen). In the definition of Element, \n",
    "change the name of method dump to __str__, create a new hydrogen object, and call print(hydrogen) again.\n",
    "\n",
    "\"\"\"\n",
    "\n",
    "class Element:\n",
    "    def __init__(self,name,symbol,number):\n",
    "        self.name=name\n",
    "        self.symbol=symbol\n",
    "        self.number=number\n",
    "        \n",
    "    def __str__(self):\n",
    "        return f'{self.name}\\n{self.symbol}\\n{self.number}'\n"
   ]
  },
  {
   "cell_type": "code",
   "execution_count": 49,
   "id": "b1e4be3a",
   "metadata": {},
   "outputs": [
    {
     "name": "stdout",
     "output_type": "stream",
     "text": [
      "Hydrogen\n",
      "H\n",
      "1\n"
     ]
    }
   ],
   "source": [
    "#creating an instance of the class Element\n",
    "hydrogen=Element('Hydrogen','H',1)\n",
    "print(hydrogen)"
   ]
  },
  {
   "cell_type": "code",
   "execution_count": 54,
   "id": "0b567134",
   "metadata": {},
   "outputs": [],
   "source": [
    "#Q8. \n",
    "\"\"\"\n",
    "Modify Element to make the attributes name, symbol, and number private. \n",
    "Define a getter property for each to return its value.\n",
    "\n",
    "\"\"\"\n",
    "\n",
    "#Ans\n",
    "\n",
    "class Element:\n",
    "    def __init__(self,name='Hydrogen',symbol='H',number=1):\n",
    "        self.name=name\n",
    "        self.symbol=symbol\n",
    "        self.number=number\n",
    "        \n",
    "    def __str__(self):\n",
    "        return f'{self.name}\\n{self.symbol}\\n{self.number}'\n",
    "    def get_name(self):\n",
    "        return self.name\n",
    "    def get_symbol(self):\n",
    "        return self.symbol\n",
    "    def get_number(self):\n",
    "        return self.number\n"
   ]
  },
  {
   "cell_type": "code",
   "execution_count": 55,
   "id": "f538b0a9",
   "metadata": {},
   "outputs": [],
   "source": [
    "hydrogen=Element()\n"
   ]
  },
  {
   "cell_type": "code",
   "execution_count": 56,
   "id": "dd4e3e1f",
   "metadata": {},
   "outputs": [
    {
     "data": {
      "text/plain": [
       "'Hydrogen'"
      ]
     },
     "execution_count": 56,
     "metadata": {},
     "output_type": "execute_result"
    }
   ],
   "source": [
    "hydrogen.get_name()"
   ]
  },
  {
   "cell_type": "code",
   "execution_count": 65,
   "id": "a8243d90",
   "metadata": {},
   "outputs": [],
   "source": [
    "\"\"\"\n",
    "Q9. Define three classes: Bear, Rabbit, and Octothorpe. \n",
    "For each, define only one method: eats(). \n",
    "This should return 'berries' (Bear), 'clover' (Rabbit), or \n",
    "'campers' (Octothorpe). \n",
    "Create one object from each and print what it eats.\n",
    "\"\"\"\n",
    "#Ans 9\n",
    "\n",
    "class Bear:\n",
    "    def eats(self):\n",
    "        return 'berries'\n",
    "    \n",
    "    \n",
    "class Rabbit:\n",
    "    def eats(self):\n",
    "        return 'clover'\n",
    "    \n",
    "    \n",
    "class Octothorpe:\n",
    "    def eats(self):\n",
    "        return 'campers'"
   ]
  },
  {
   "cell_type": "code",
   "execution_count": 66,
   "id": "df077569",
   "metadata": {},
   "outputs": [],
   "source": [
    "b=Bear()\n",
    "r=Rabbit()\n",
    "o=Octothorpe()"
   ]
  },
  {
   "cell_type": "code",
   "execution_count": 62,
   "id": "dea970b6",
   "metadata": {},
   "outputs": [
    {
     "data": {
      "text/plain": [
       "'berries'"
      ]
     },
     "execution_count": 62,
     "metadata": {},
     "output_type": "execute_result"
    }
   ],
   "source": [
    "b.eats()"
   ]
  },
  {
   "cell_type": "code",
   "execution_count": 67,
   "id": "b0c1ece5",
   "metadata": {},
   "outputs": [
    {
     "data": {
      "text/plain": [
       "'clover'"
      ]
     },
     "execution_count": 67,
     "metadata": {},
     "output_type": "execute_result"
    }
   ],
   "source": [
    "r.eats()"
   ]
  },
  {
   "cell_type": "code",
   "execution_count": 68,
   "id": "b351fd27",
   "metadata": {},
   "outputs": [
    {
     "data": {
      "text/plain": [
       "'campers'"
      ]
     },
     "execution_count": 68,
     "metadata": {},
     "output_type": "execute_result"
    }
   ],
   "source": [
    "o.eats()"
   ]
  },
  {
   "cell_type": "code",
   "execution_count": 16,
   "id": "8935b306",
   "metadata": {},
   "outputs": [],
   "source": [
    "#10. Define these classes: Laser, Claw, and SmartPhone. \n",
    "\n",
    "\"\"\"\n",
    "Define these classes: Laser, Claw, and SmartPhone.\n",
    "Each has only one method: does(). \n",
    "This returns 'disintegrate' (Laser), 'crush' (Claw), or \n",
    "'ring' (SmartPhone). Then, define the class \n",
    "Robot that has one instance (object) of each of these. \n",
    "Define a does() method for the Robot that prints what its \n",
    "component objects do.\n",
    "\"\"\"\n",
    "#Ans 10\n",
    "\n",
    "class Laser():\n",
    "    def does(self):\n",
    "        return 'disintegrate'\n",
    "    \n",
    "    \n",
    "class Claw():\n",
    "    def does(self):\n",
    "        return 'crush'\n",
    "    \n",
    "    \n",
    "class SmartPhone():\n",
    "    def does(self):\n",
    "        return 'ring'\n",
    "\n",
    "class Robot:\n",
    "    l=Laser()\n",
    "    c=Claw()\n",
    "    sp=SmartPhone()\n",
    "    def does(self):\n",
    "        return f\"{self.l.does()} {self.c.does()} {self.sp.does()}\"\n",
    "\n"
   ]
  },
  {
   "cell_type": "code",
   "execution_count": 17,
   "id": "addcef0a",
   "metadata": {},
   "outputs": [],
   "source": [
    "r=Robot()"
   ]
  },
  {
   "cell_type": "code",
   "execution_count": 18,
   "id": "463726b9",
   "metadata": {},
   "outputs": [
    {
     "data": {
      "text/plain": [
       "'disintegrate crush ring'"
      ]
     },
     "execution_count": 18,
     "metadata": {},
     "output_type": "execute_result"
    }
   ],
   "source": [
    "r.does()"
   ]
  },
  {
   "cell_type": "code",
   "execution_count": null,
   "id": "b51aa288",
   "metadata": {},
   "outputs": [],
   "source": []
  }
 ],
 "metadata": {
  "kernelspec": {
   "display_name": "Python 3 (ipykernel)",
   "language": "python",
   "name": "python3"
  },
  "language_info": {
   "codemirror_mode": {
    "name": "ipython",
    "version": 3
   },
   "file_extension": ".py",
   "mimetype": "text/x-python",
   "name": "python",
   "nbconvert_exporter": "python",
   "pygments_lexer": "ipython3",
   "version": "3.9.12"
  }
 },
 "nbformat": 4,
 "nbformat_minor": 5
}
