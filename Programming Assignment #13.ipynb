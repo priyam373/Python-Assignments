{
 "cells": [
  {
   "cell_type": "markdown",
   "id": "88ee79fa",
   "metadata": {},
   "source": [
    "Question 1:\n",
    "\n",
    "Write a program that calculates and prints the value according to the given formula:\n",
    "\n",
    "Q = Square root of [(2 * C * D)/H]\n",
    "\n",
    "Following are the fixed values of C and H:\n",
    "\n",
    "C is 50. H is 30.\n",
    "\n",
    "D is the variable whose values should be input to your program in a comma-separated sequence.\n",
    "\n",
    "Example\n",
    "\n",
    "Let us assume the following comma separated input sequence is given to the program:\n",
    "\n",
    "100,150,180\n",
    "\n",
    "The output of the program should be:\n",
    "\n",
    "18,22,24\n"
   ]
  },
  {
   "cell_type": "code",
   "execution_count": 12,
   "id": "9d296dd6",
   "metadata": {},
   "outputs": [
    {
     "name": "stdout",
     "output_type": "stream",
     "text": [
      "100,150,180\n"
     ]
    },
    {
     "data": {
      "text/plain": [
       "[18, 22, 24]"
      ]
     },
     "execution_count": 12,
     "metadata": {},
     "output_type": "execute_result"
    }
   ],
   "source": [
    "#Ans 1\n",
    "C=50\n",
    "H=30\n",
    "import math\n",
    "str=input()\n",
    "l=str.split(sep=',')\n",
    "l1=[]\n",
    "for i in l:\n",
    "    square=round(math.sqrt((2*C*int(i))/30))\n",
    "    l1.append(square)\n",
    "l1"
   ]
  },
  {
   "cell_type": "markdown",
   "id": "5cc890fd",
   "metadata": {},
   "source": [
    "Question 2:\n",
    "Write a program which takes 2 digits, X,Y as input and generates a 2-dimensional array. The element value in the i-th row and j-th column of the array should be i*j.\n",
    "\n",
    "Note: i=0,1.., X-1; j=0,1,¡¬Y-1.\n",
    "\n",
    "Example\n",
    "\n",
    "Suppose the following inputs are given to the program:\n",
    "\n",
    "3,5\n",
    "\n",
    "Then, the output of the program should be:\n",
    "\n",
    "[[0, 0, 0, 0, 0], [0, 1, 2, 3, 4], [0, 2, 4, 6, 8]] \n"
   ]
  },
  {
   "cell_type": "code",
   "execution_count": 20,
   "id": "401b8d6e",
   "metadata": {},
   "outputs": [
    {
     "name": "stdout",
     "output_type": "stream",
     "text": [
      "Enter the first digit 3\n",
      "Enter the second digit 5\n"
     ]
    },
    {
     "data": {
      "text/plain": [
       "array([[0., 0., 0., 0., 0.],\n",
       "       [0., 1., 2., 3., 4.],\n",
       "       [0., 2., 4., 6., 8.]])"
      ]
     },
     "execution_count": 20,
     "metadata": {},
     "output_type": "execute_result"
    }
   ],
   "source": [
    "#Ans 2\n",
    "a= int(input('Enter the first digit '))\n",
    "b= int(input('Enter the second digit '))\n",
    "import numpy as np\n",
    "\n",
    "\n",
    "np.fromfunction(lambda i,j:i*j,(a,b))"
   ]
  },
  {
   "cell_type": "markdown",
   "id": "9beb18fa",
   "metadata": {},
   "source": [
    "Question 3:\n",
    "Write a program that accepts a comma separated sequence of words as input and prints the words in a comma-separated sequence after sorting them alphabetically.\n",
    "\n",
    "Suppose the following input is supplied to the program:\n",
    "\n",
    "without,hello,bag,world\n",
    "\n",
    "Then, the output should be:\n",
    "\n",
    "bag,hello,without,world\n"
   ]
  },
  {
   "cell_type": "code",
   "execution_count": 35,
   "id": "10164d9d",
   "metadata": {},
   "outputs": [
    {
     "name": "stdout",
     "output_type": "stream",
     "text": [
      "Enter a comma seperated stringI, aspire, to, be, a, data, scientist\n",
      " a, aspire, be, data, scientist, to,I\n"
     ]
    }
   ],
   "source": [
    "#Ans 3\n",
    "str=input('Enter a comma seperated string')\n",
    "l=str.split(sep=',')\n",
    "l=sorted(l)\n",
    "new_str=','.join(l)\n",
    "print(new_str)"
   ]
  },
  {
   "cell_type": "markdown",
   "id": "7186ef7e",
   "metadata": {},
   "source": [
    "Question 4:\n",
    "Write a program that accepts a sequence of whitespace separated words as input and prints the words after removing all duplicate words and sorting them alphanumerically.\n",
    "\n",
    "Suppose the following input is supplied to the program:\n",
    "\n",
    "hello world and practice makes perfect and hello world again\n",
    "\n",
    "Then, the output should be:\n",
    "\n",
    "again and hello makes perfect practice world\n"
   ]
  },
  {
   "cell_type": "code",
   "execution_count": 56,
   "id": "8e6a199a",
   "metadata": {},
   "outputs": [
    {
     "data": {
      "text/plain": [
       "'again and hello makes perfect practice world'"
      ]
     },
     "execution_count": 56,
     "metadata": {},
     "output_type": "execute_result"
    }
   ],
   "source": [
    "#Ans 4\n",
    "str='hello world and practice makes perfect and hello world again'\n",
    "l=str.split()\n",
    "l1=l.copy()\n",
    "for i in range(len(l)):\n",
    "    #print(l[i])\n",
    "    for j in range(i+1,len(l)):\n",
    "        if l[i]==l[j]:\n",
    "            l1.remove(l[i])\n",
    "l1=sorted(l1)\n",
    "' '.join(l1)\n"
   ]
  },
  {
   "cell_type": "markdown",
   "id": "bf72a78b",
   "metadata": {},
   "source": [
    "Question 5:\n",
    "Write a program that accepts a sentence and calculate the number of letters and digits.\n",
    "\n",
    "Suppose the following input is supplied to the program:\n",
    "\n",
    "hello world! 123\n",
    "\n",
    "Then, the output should be:\n",
    "\n",
    "LETTERS 10\n",
    "\n",
    "DIGITS 3\n"
   ]
  },
  {
   "cell_type": "code",
   "execution_count": 95,
   "id": "192933d0",
   "metadata": {},
   "outputs": [
    {
     "name": "stdout",
     "output_type": "stream",
     "text": [
      "Letters  10\n",
      "Letters  3\n"
     ]
    }
   ],
   "source": [
    "#Ans 5\n",
    "str='hello world! 123'\n",
    "l1_string=[]\n",
    "l1_digit=[]\n",
    "for i in str:\n",
    "    \n",
    "    if i.isalpha()==True:\n",
    "        l1_string.append(i)\n",
    "    elif i.isdigit()==True:\n",
    "        l1_digit.append(i)\n",
    "print('Letters ',len(l1_string))\n",
    "print('Letters ',len(l1_digit))"
   ]
  },
  {
   "cell_type": "markdown",
   "id": "7b7cf46d",
   "metadata": {},
   "source": [
    "Question 6:\n",
    "A website requires the users to input username and password to register. Write a program to check the validity of password input by users.\n",
    "\n",
    "Following are the criteria for checking the password:\n",
    "\n",
    "1. At least 1 letter between [a-z]\n",
    "\n",
    "2. At least 1 number between [0-9]\n",
    "\n",
    "1. At least 1 letter between [A-Z]\n",
    "\n",
    "3. At least 1 character from [$#@]\n",
    "\n",
    "4. Minimum length of transaction password: 6\n",
    "\n",
    "5. Maximum length of transaction password: 12\n",
    "\n",
    "Your program should accept a sequence of comma separated passwords and will check them according to the above criteria. Passwords that match the criteria are to be printed, each separated by a comma.\n",
    "\n",
    "Example\n",
    "\n",
    "If the following passwords are given as input to the program:\n",
    "\n",
    "ABd1234@1,a F1#,2w3E*,2We3345\n",
    "\n",
    "Then, the output of the program should be:\n",
    "\n",
    "ABd1234@1\n"
   ]
  },
  {
   "cell_type": "code",
   "execution_count": null,
   "id": "878f94f1",
   "metadata": {},
   "outputs": [],
   "source": [
    "#Ans 6\n",
    "user_name=input('Enter a username')\n",
    "password=input('Enter a password')\n"
   ]
  },
  {
   "cell_type": "code",
   "execution_count": 129,
   "id": "13523bd2",
   "metadata": {},
   "outputs": [
    {
     "name": "stdout",
     "output_type": "stream",
     "text": [
      "the password ABd1234@1 is accepted\n"
     ]
    }
   ],
   "source": [
    "# At least 1 letter between [a-z]\n",
    "\n",
    "#At least 1 number between [0-9]\n",
    "\n",
    "#At least 1 letter between [A-Z]\n",
    "\n",
    "#At least 1 character from [$#@]\n",
    "password='ABd1234@1,a F1#,2w3E*,2We3345'\n",
    "l=password.split(',')\n",
    "l\n",
    "count1,count2,count3,count4=0,0,0,0\n",
    "sp_ch='[@_!#$%^&*()<>?/\\|}{~:]'\n",
    "for i in l:\n",
    "    if len(i)>6 and len(i)<12:\n",
    "        \n",
    "        for j in i:\n",
    "            if j.isdigit()==True:\n",
    "                count1+=1\n",
    "            elif j.isupper()==True:\n",
    "                count2+=1\n",
    "            elif j.islower()==True:\n",
    "                count3+=1\n",
    "            elif j in sp_ch:\n",
    "                count4+=1\n",
    "        if count1>=1 and count2>=1 and count3>=1 and count4>=1:\n",
    "            \n",
    "            print('the password',i, 'is accepted')\n",
    "            count1,count2,count3,count4=0,0,0,0\n",
    "        else:\n",
    "            count1,count2,count3,count4=0,0,0,0\n",
    "            \n",
    "        "
   ]
  }
 ],
 "metadata": {
  "kernelspec": {
   "display_name": "Python 3 (ipykernel)",
   "language": "python",
   "name": "python3"
  },
  "language_info": {
   "codemirror_mode": {
    "name": "ipython",
    "version": 3
   },
   "file_extension": ".py",
   "mimetype": "text/x-python",
   "name": "python",
   "nbconvert_exporter": "python",
   "pygments_lexer": "ipython3",
   "version": "3.9.12"
  }
 },
 "nbformat": 4,
 "nbformat_minor": 5
}
