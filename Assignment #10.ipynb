{
 "cells": [
  {
   "cell_type": "markdown",
   "id": "2941f64d",
   "metadata": {},
   "source": [
    "1. How do you distinguish between shutil.copy() and shutil.copytree()?\n",
    "2. What function is used to rename files??\n",
    "3. What is the difference between the delete functions in the send2trash and shutil modules?\n",
    "4.ZipFile objects have a close() method just like File objects’ close() method. What ZipFile method is equivalent to File objects’ open() method?\n",
    "5. Create a programme that searches a folder tree for files with a certain file extension (such as .pdf or .jpg). Copy these files from whatever location they are in to a new folder.\n",
    "\n"
   ]
  },
  {
   "cell_type": "code",
   "execution_count": 1,
   "id": "edeb0ddf",
   "metadata": {},
   "outputs": [],
   "source": [
    "#Ans 1\n",
    "import shutil\n",
    "#shutil.copytree() copies an entire directory and all the files\n",
    "#inside the directory and shutil.copy files only"
   ]
  },
  {
   "cell_type": "code",
   "execution_count": null,
   "id": "cbf96825",
   "metadata": {},
   "outputs": [],
   "source": [
    "#2. What function is used to rename files??\n",
    "# os.rename() is used for that"
   ]
  },
  {
   "cell_type": "code",
   "execution_count": null,
   "id": "b842fcc6",
   "metadata": {},
   "outputs": [],
   "source": [
    "#3. What is the difference between the delete functions\n",
    "# in the send2trash and shutil modules?\n",
    "\n",
    "# as the name suggests, send2trash will move the file/folder to \n",
    "#the recycle bin which can be recovered but shutil functions will \n",
    "#permanently delete files and folders."
   ]
  },
  {
   "cell_type": "code",
   "execution_count": null,
   "id": "7f485478",
   "metadata": {},
   "outputs": [],
   "source": [
    "#4.ZipFile objects have a close() method just \n",
    "#like File objects’ close() method. What ZipFile method is equivalent \n",
    "#to File objects’ open() method?\n",
    "\n",
    "\n",
    "#zipfile() function itself is equivalent to the \n",
    "#file object's open() method\n"
   ]
  },
  {
   "cell_type": "code",
   "execution_count": 2,
   "id": "e0e7f755",
   "metadata": {},
   "outputs": [],
   "source": [
    "#5. Create a programme that searches a folder tree for \n",
    "#files with a certain file extension (such as .pdf or .jpg). \n",
    "#Copy these files from whatever location they are in to a new folder.\n",
    "\n"
   ]
  },
  {
   "cell_type": "code",
   "execution_count": 53,
   "id": "b3a3859a",
   "metadata": {},
   "outputs": [
    {
     "name": "stdout",
     "output_type": "stream",
     "text": [
      "source location is: C:\\Users\\chatu\\Dropbox\\Ineuron Data Science and ML Course\\Assignments\\Python Assignments\\Doc Assignment\\\n"
     ]
    },
    {
     "data": {
      "text/plain": [
       "['C:\\\\Users\\\\chatu\\\\Dropbox\\\\Ineuron Data Science and ML Course\\\\Assignments\\\\Python Assignments\\\\Doc Assignment\\\\file_example_JPG_1MB.jpg',\n",
       " 'C:\\\\Users\\\\chatu\\\\Dropbox\\\\Ineuron Data Science and ML Course\\\\Assignments\\\\Python Assignments\\\\Doc Assignment\\\\sample.pdf']"
      ]
     },
     "execution_count": 53,
     "metadata": {},
     "output_type": "execute_result"
    }
   ],
   "source": [
    "import os\n",
    "l1=[]\n",
    "source=os.getcwd()\n",
    "source=source+'\\\\'\n",
    "print(f'source location is: {source}')\n",
    "for i in os.listdir():\n",
    "    if i[-3:]=='pdf' or i[-3:]=='jpg':\n",
    "        l1.append(source+i)\n",
    "l1"
   ]
  },
  {
   "cell_type": "code",
   "execution_count": 60,
   "id": "ee3e2ae8",
   "metadata": {},
   "outputs": [],
   "source": [
    "import shutil\n",
    "destination=source+'dst'\n",
    "\n",
    "for i in l1:\n",
    "    shutil.move(i,destination)"
   ]
  }
 ],
 "metadata": {
  "kernelspec": {
   "display_name": "Python 3 (ipykernel)",
   "language": "python",
   "name": "python3"
  },
  "language_info": {
   "codemirror_mode": {
    "name": "ipython",
    "version": 3
   },
   "file_extension": ".py",
   "mimetype": "text/x-python",
   "name": "python",
   "nbconvert_exporter": "python",
   "pygments_lexer": "ipython3",
   "version": "3.9.12"
  }
 },
 "nbformat": 4,
 "nbformat_minor": 5
}
