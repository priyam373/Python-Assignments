{
 "cells": [
  {
   "cell_type": "markdown",
   "id": "b84c3264",
   "metadata": {},
   "source": [
    "1.How many seconds are in an hour? Use the interactive interpreter as a calculator and multiply the number of seconds in a minute (60) by the number of minutes in an hour (also 60).\n",
    "sol. 60 \n",
    "2. Assign the result from the previous task (seconds in an hour) to a variable called seconds_per_hour.\n",
    "3. How many seconds do you think there are in a day? Make use of the variables seconds per hour and minutes per hour.\n",
    "4. Calculate seconds per day again, but this time save the result in a variable called seconds_per_day\n",
    "5. Divide seconds_per_day by seconds_per_hour. Use floating-point (/) division.\n",
    "6. Divide seconds_per_day by seconds_per_hour, using integer (//) division. Did this number agree with the floating-point value from the previous question, aside from the final .0?\n",
    "7. Write a generator, genPrimes, that returns the sequence of prime numbers on successive calls to its next() method: 2, 3, 5, 7, 11, ...\n"
   ]
  },
  {
   "cell_type": "code",
   "execution_count": 1,
   "id": "05fd4b00",
   "metadata": {},
   "outputs": [
    {
     "data": {
      "text/plain": [
       "3600"
      ]
     },
     "execution_count": 1,
     "metadata": {},
     "output_type": "execute_result"
    }
   ],
   "source": [
    "#Ans 1\n",
    "60*60"
   ]
  },
  {
   "cell_type": "code",
   "execution_count": 3,
   "id": "9176bcfc",
   "metadata": {},
   "outputs": [],
   "source": [
    "#Ans 2\n",
    "seconds_per_hour=60*60\n"
   ]
  },
  {
   "cell_type": "code",
   "execution_count": 6,
   "id": "75553f79",
   "metadata": {},
   "outputs": [
    {
     "data": {
      "text/plain": [
       "86400"
      ]
     },
     "execution_count": 6,
     "metadata": {},
     "output_type": "execute_result"
    }
   ],
   "source": [
    "#Ans 3\n",
    "24*seconds_per_hour\n"
   ]
  },
  {
   "cell_type": "code",
   "execution_count": null,
   "id": "51a39608",
   "metadata": {},
   "outputs": [],
   "source": [
    "#Ans 4\n",
    "seconds_per_day=24*seconds_per_hour"
   ]
  },
  {
   "cell_type": "code",
   "execution_count": 7,
   "id": "58f83111",
   "metadata": {},
   "outputs": [
    {
     "data": {
      "text/plain": [
       "24.0"
      ]
     },
     "execution_count": 7,
     "metadata": {},
     "output_type": "execute_result"
    }
   ],
   "source": [
    "#Ans 5\n",
    "seconds_per_day/seconds_per_hour"
   ]
  },
  {
   "cell_type": "code",
   "execution_count": 8,
   "id": "3a1985b5",
   "metadata": {},
   "outputs": [
    {
     "data": {
      "text/plain": [
       "24"
      ]
     },
     "execution_count": 8,
     "metadata": {},
     "output_type": "execute_result"
    }
   ],
   "source": [
    "#Ans 6\n",
    "int(seconds_per_day/seconds_per_hour)\n",
    "# yes, the number agrees if the float number (.0) is kept aside"
   ]
  },
  {
   "cell_type": "code",
   "execution_count": null,
   "id": "da4f9260",
   "metadata": {},
   "outputs": [],
   "source": [
    "#Ans 7:\n",
    "#Write a generator, genPrimes, that returns the \n",
    "#sequence of prime numbers on successive calls to  its next() method: 2, 3, 5, 7, 11, ...\n"
   ]
  },
  {
   "cell_type": "code",
   "execution_count": 66,
   "id": "0d40ecb0",
   "metadata": {},
   "outputs": [
    {
     "name": "stdout",
     "output_type": "stream",
     "text": [
      "2\n",
      "3\n",
      "5\n",
      "7\n",
      "11\n",
      "13\n",
      "17\n",
      "19\n",
      "23\n",
      "29\n"
     ]
    }
   ],
   "source": [
    "def genPrimes():\n",
    "    primes=[2,3,5,7,11]\n",
    "    \n",
    "    def isprimenumber(n):\n",
    "        \"\"\"\n",
    "        this function is to check if the provided number is a prime\n",
    "        number or not\n",
    "        \"\"\"\n",
    "        if n in primes:\n",
    "            return True\n",
    "        for i in primes:\n",
    "            if n%i==0:\n",
    "                return False\n",
    "        \n",
    "        primes.append(n)\n",
    "        return True\n",
    "    \n",
    "    num=1\n",
    "    while True:\n",
    "        num+=1\n",
    "        if isprimenumber(num):\n",
    "            next=num\n",
    "            yield next\n",
    "            num=next\n",
    "primenumber=genPrimes()\n",
    "\n",
    "for i in range(10):\n",
    "    print(primenumber.__next__())\n"
   ]
  }
 ],
 "metadata": {
  "kernelspec": {
   "display_name": "Python 3 (ipykernel)",
   "language": "python",
   "name": "python3"
  },
  "language_info": {
   "codemirror_mode": {
    "name": "ipython",
    "version": 3
   },
   "file_extension": ".py",
   "mimetype": "text/x-python",
   "name": "python",
   "nbconvert_exporter": "python",
   "pygments_lexer": "ipython3",
   "version": "3.9.12"
  }
 },
 "nbformat": 4,
 "nbformat_minor": 5
}
