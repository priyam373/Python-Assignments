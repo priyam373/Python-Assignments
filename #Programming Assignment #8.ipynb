{
 "cells": [
  {
   "cell_type": "markdown",
   "id": "6467cb7a",
   "metadata": {},
   "source": [
    "1.\tWrite a Python Program to Add Two Matrices?\n",
    "2.\tWrite a Python Program to Multiply Two Matrices?\n",
    "3.\tWrite a Python Program to Transpose a Matrix?\n",
    "4.\tWrite a Python Program to Sort Words in Alphabetic Order?\n",
    "5.\tWrite a Python Program to Remove Punctuation From a String?\n"
   ]
  },
  {
   "cell_type": "code",
   "execution_count": 14,
   "id": "c6d59c72",
   "metadata": {},
   "outputs": [
    {
     "name": "stdout",
     "output_type": "stream",
     "text": [
      "[[ 8 13 12]\n",
      " [12 14  7]\n",
      " [13 13 11]]\n"
     ]
    }
   ],
   "source": [
    "import numpy as np\n",
    "a=np.random.randint(10,size=(3,3))\n",
    "b=np.random.randint(10,size=(3,3))    \n",
    "print(a+b)"
   ]
  },
  {
   "cell_type": "code",
   "execution_count": 16,
   "id": "c8722c8c",
   "metadata": {},
   "outputs": [
    {
     "name": "stdout",
     "output_type": "stream",
     "text": [
      "[[ 8 13 12]\n",
      " [12 14  7]\n",
      " [13 13 11]]\n"
     ]
    }
   ],
   "source": [
    "#Ans 1\n",
    "print(a+b)"
   ]
  },
  {
   "cell_type": "code",
   "execution_count": 17,
   "id": "a532f090",
   "metadata": {},
   "outputs": [
    {
     "data": {
      "text/plain": [
       "array([[ 7, 40, 35],\n",
       "       [32, 49, 12],\n",
       "       [40, 40, 24]])"
      ]
     },
     "execution_count": 17,
     "metadata": {},
     "output_type": "execute_result"
    }
   ],
   "source": [
    "#Ans 2\n",
    "a*b"
   ]
  },
  {
   "cell_type": "code",
   "execution_count": 25,
   "id": "1f593930",
   "metadata": {},
   "outputs": [
    {
     "data": {
      "text/plain": [
       "array([[7, 4, 8],\n",
       "       [5, 7, 5],\n",
       "       [7, 3, 8]])"
      ]
     },
     "execution_count": 25,
     "metadata": {},
     "output_type": "execute_result"
    }
   ],
   "source": [
    "#Ans 3\n",
    "a.T"
   ]
  },
  {
   "cell_type": "code",
   "execution_count": 26,
   "id": "783a0c99",
   "metadata": {},
   "outputs": [
    {
     "data": {
      "text/plain": [
       "array([[1, 8, 5],\n",
       "       [8, 7, 8],\n",
       "       [5, 4, 3]])"
      ]
     },
     "execution_count": 26,
     "metadata": {},
     "output_type": "execute_result"
    }
   ],
   "source": [
    "#Ans 3\n",
    "b.T"
   ]
  },
  {
   "cell_type": "code",
   "execution_count": 28,
   "id": "09492b9f",
   "metadata": {},
   "outputs": [
    {
     "data": {
      "text/plain": [
       "['amazon', 'boxing', 'google', 'oracle']"
      ]
     },
     "execution_count": 28,
     "metadata": {},
     "output_type": "execute_result"
    }
   ],
   "source": [
    "#Ans 4.\tWrite a Python Program to Sort Words in Alphabetic Order?\n",
    "l=['google','amazon','oracle','boxing']\n",
    "sorted(l)"
   ]
  },
  {
   "cell_type": "code",
   "execution_count": 33,
   "id": "ea55ba4f",
   "metadata": {},
   "outputs": [
    {
     "data": {
      "text/plain": [
       "'priyam'"
      ]
     },
     "execution_count": 33,
     "metadata": {},
     "output_type": "execute_result"
    }
   ],
   "source": [
    "#Ans 5.\tWrite a Python Program to Remove Punctuation From a String?\n",
    "str='priyam..'\n",
    "a='.'\n",
    "str.replace(a,'')"
   ]
  },
  {
   "cell_type": "code",
   "execution_count": 40,
   "id": "41d133a0",
   "metadata": {},
   "outputs": [
    {
     "name": "stdout",
     "output_type": "stream",
     "text": [
      "please enter a stringfsra./\n"
     ]
    },
    {
     "data": {
      "text/plain": [
       "'fsra'"
      ]
     },
     "execution_count": 40,
     "metadata": {},
     "output_type": "execute_result"
    }
   ],
   "source": [
    "a=input('please enter a string')\n",
    "import re\n",
    "re.sub(r'[^\\w\\s]','',a)\n"
   ]
  },
  {
   "cell_type": "code",
   "execution_count": null,
   "id": "aeb60650",
   "metadata": {},
   "outputs": [],
   "source": []
  }
 ],
 "metadata": {
  "kernelspec": {
   "display_name": "Python 3 (ipykernel)",
   "language": "python",
   "name": "python3"
  },
  "language_info": {
   "codemirror_mode": {
    "name": "ipython",
    "version": 3
   },
   "file_extension": ".py",
   "mimetype": "text/x-python",
   "name": "python",
   "nbconvert_exporter": "python",
   "pygments_lexer": "ipython3",
   "version": "3.9.12"
  }
 },
 "nbformat": 4,
 "nbformat_minor": 5
}
