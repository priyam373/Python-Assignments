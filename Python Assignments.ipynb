{
 "cells": [
  {
   "cell_type": "markdown",
   "id": "c4b352e6",
   "metadata": {},
   "source": [
    "1.\tWrite a Python program to print \"Hello Python\"?\n",
    "2.\tWrite a Python program to do arithmetical operations addition and division.?\n",
    "3.\tWrite a Python program to find the area of a triangle?\n",
    "4.\tWrite a Python program to swap two variables?\n",
    "5.\tWrite a Python program to generate a random number?\n"
   ]
  },
  {
   "cell_type": "code",
   "execution_count": 1,
   "id": "a83d6573",
   "metadata": {},
   "outputs": [
    {
     "name": "stdout",
     "output_type": "stream",
     "text": [
      "Hello Python\n"
     ]
    }
   ],
   "source": [
    "#Ans1\n",
    "print('Hello Python')"
   ]
  },
  {
   "cell_type": "code",
   "execution_count": 18,
   "id": "0e49c6bd",
   "metadata": {},
   "outputs": [],
   "source": [
    "#Ans2\n",
    "\n",
    "def add_div(x,y):\n",
    "    \"\"\"\n",
    "    this function is add two numbers\n",
    "    \"\"\"\n",
    "    z=x+y\n",
    "    a=x/y\n",
    "    print(f'the addition of {x} and {y} is {z}.')\n",
    "    print(f'the division of {x} and {y} is {a}.')"
   ]
  },
  {
   "cell_type": "code",
   "execution_count": 24,
   "id": "f438c907",
   "metadata": {},
   "outputs": [],
   "source": [
    "#Ans3:\n",
    "def triangle_area(h,b):\n",
    "    \"\"\"\n",
    "    this function is calculate the area of a triangle\n",
    "    \"\"\"\n",
    "    return(h*b)/2"
   ]
  },
  {
   "cell_type": "code",
   "execution_count": 26,
   "id": "146a6927",
   "metadata": {},
   "outputs": [],
   "source": [
    "#Ans4:\n",
    "def var_swapping(x,y):\n",
    "    print(f'the value of {x} after swapping is {y}')\n",
    "    print(f'the value of {y} after swapping is {x}')"
   ]
  },
  {
   "cell_type": "code",
   "execution_count": 79,
   "id": "c394cb02",
   "metadata": {},
   "outputs": [],
   "source": [
    "#Ans5:\n",
    "def random_number():\n",
    "    import numpy as np\n",
    "    return np.random.rand()\n",
    "    "
   ]
  },
  {
   "cell_type": "code",
   "execution_count": 78,
   "id": "3542262e",
   "metadata": {},
   "outputs": [
    {
     "data": {
      "text/plain": [
       "0.6854490995091723"
      ]
     },
     "execution_count": 78,
     "metadata": {},
     "output_type": "execute_result"
    }
   ],
   "source": [
    "random_number()\n"
   ]
  }
 ],
 "metadata": {
  "kernelspec": {
   "display_name": "Python 3 (ipykernel)",
   "language": "python",
   "name": "python3"
  },
  "language_info": {
   "codemirror_mode": {
    "name": "ipython",
    "version": 3
   },
   "file_extension": ".py",
   "mimetype": "text/x-python",
   "name": "python",
   "nbconvert_exporter": "python",
   "pygments_lexer": "ipython3",
   "version": "3.9.12"
  }
 },
 "nbformat": 4,
 "nbformat_minor": 5
}
