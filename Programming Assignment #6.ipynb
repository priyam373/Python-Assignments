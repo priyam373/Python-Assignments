{
 "cells": [
  {
   "cell_type": "markdown",
   "id": "f1d0eeb8",
   "metadata": {},
   "source": [
    "1.\tWrite a Python Program to Display Fibonacci Sequence Using Recursion?\n",
    "2.\tWrite a Python Program to Find Factorial of Number Using Recursion?\n",
    "3.\tWrite a Python Program to calculate your Body Mass Index?\n",
    "4.\tWrite a Python Program to calculate the natural logarithm of any number?\n",
    "5.\tWrite a Python Program for cube sum of first n natural numbers?\n"
   ]
  },
  {
   "cell_type": "code",
   "execution_count": 1,
   "id": "15a58bd8",
   "metadata": {},
   "outputs": [
    {
     "name": "stdout",
     "output_type": "stream",
     "text": [
      "3\n",
      "1\n",
      "2\n",
      "4\n"
     ]
    }
   ],
   "source": [
    "#Ans 1 Write a Python Program to Display Fibonacci Sequence Using Recursion?\n",
    "x=int(input())\n",
    "k=0\n",
    "j=1\n",
    "for i in range(1,x+1):\n",
    "    fact=k+j\n",
    "    k+=k\n",
    "    j+=j\n",
    "    print(fact)"
   ]
  },
  {
   "cell_type": "code",
   "execution_count": 34,
   "id": "aed09c27",
   "metadata": {},
   "outputs": [
    {
     "name": "stdout",
     "output_type": "stream",
     "text": [
      "please enter a number10\n",
      "0\n",
      "1\n",
      "1\n",
      "2\n",
      "3\n",
      "5\n",
      "8\n",
      "13\n",
      "21\n",
      "34\n"
     ]
    }
   ],
   "source": [
    "def fib(num):\n",
    "    if num<=1:\n",
    "        return num\n",
    "    else:\n",
    "        return(fib(num-1)+fib(num-2))\n",
    "\n",
    "n=int(input('please enter a number')) \n",
    "if n<=0:\n",
    "    print('please enter a positive number')\n",
    "else:\n",
    "    for i in range(n):\n",
    "        print(fib(i))\n",
    "\n"
   ]
  },
  {
   "cell_type": "code",
   "execution_count": 47,
   "id": "2b35aea4",
   "metadata": {},
   "outputs": [],
   "source": [
    "#Ans2 Write a Python Program to Find Factorial of Number Using Recursion?\n",
    "def factorial(x):\n",
    "    fact=1\n",
    "    for i in range(x,1,-1):\n",
    "        fact=i*fact\n",
    "    print(fact)\n",
    "    \n",
    "\n",
    "\n"
   ]
  },
  {
   "cell_type": "code",
   "execution_count": 48,
   "id": "a212eb00",
   "metadata": {},
   "outputs": [],
   "source": [
    "# let's find the pictorial of 5\n",
    "def factorial(x):\n",
    "    if x==1:\n",
    "        return 1\n",
    "    else:\n",
    "        return (x*factorial(x-1))"
   ]
  },
  {
   "cell_type": "code",
   "execution_count": 49,
   "id": "9ec0b47e",
   "metadata": {},
   "outputs": [
    {
     "data": {
      "text/plain": [
       "120"
      ]
     },
     "execution_count": 49,
     "metadata": {},
     "output_type": "execute_result"
    }
   ],
   "source": [
    "factorial(5)"
   ]
  },
  {
   "cell_type": "code",
   "execution_count": 2,
   "id": "1b6223c8",
   "metadata": {},
   "outputs": [
    {
     "name": "stdout",
     "output_type": "stream",
     "text": [
      "Please enter your Weight in KG: 65\n",
      "Please enter your Height in CM: 180\n",
      "your BMI is 20kg/m2\n"
     ]
    }
   ],
   "source": [
    "#Ans 3 Write a Python Program to calculate your Body Mass Index?\n",
    "Weight=int(input('Please enter your Weight in KG: '))\n",
    "Height=int(input('Please enter your Height in CM: '))\n",
    "BMI=round(Weight/(Height*Height)*10000)\n",
    "print(f'your BMI is {BMI}kg/m2')"
   ]
  },
  {
   "cell_type": "code",
   "execution_count": 3,
   "id": "72c61635",
   "metadata": {},
   "outputs": [],
   "source": [
    "#Ans4 Write a Python Program to calculate the natural logarithm of any number?\n",
    "import math"
   ]
  },
  {
   "cell_type": "code",
   "execution_count": 18,
   "id": "d505a7b7",
   "metadata": {},
   "outputs": [
    {
     "name": "stdout",
     "output_type": "stream",
     "text": [
      "enter the number to find the natural logarithm of a number2.73\n",
      "2\n",
      "0.6931471805599453\n"
     ]
    }
   ],
   "source": [
    "x=round(int(float(input('enter the number to find the natural logarithm of a number'))))\n",
    "print(math.log(x))\n"
   ]
  },
  {
   "cell_type": "code",
   "execution_count": 23,
   "id": "03164076",
   "metadata": {},
   "outputs": [
    {
     "name": "stdout",
     "output_type": "stream",
     "text": [
      "enter the number4\n",
      "the cube sum of first 4 numbers is 100\n"
     ]
    }
   ],
   "source": [
    "#Ans5 Write a Python Program for cube sum of first n natural numbers?\n",
    "x=int(input('enter the number'))\n",
    "sum=0\n",
    "for i in range(1,x+1):\n",
    "    cube=i**3\n",
    "    sum=cube+sum\n",
    "print(f'the cube sum of first {x} numbers is {sum}')\n",
    "    "
   ]
  },
  {
   "cell_type": "code",
   "execution_count": null,
   "id": "ad0d60fd",
   "metadata": {},
   "outputs": [],
   "source": []
  }
 ],
 "metadata": {
  "kernelspec": {
   "display_name": "Python 3 (ipykernel)",
   "language": "python",
   "name": "python3"
  },
  "language_info": {
   "codemirror_mode": {
    "name": "ipython",
    "version": 3
   },
   "file_extension": ".py",
   "mimetype": "text/x-python",
   "name": "python",
   "nbconvert_exporter": "python",
   "pygments_lexer": "ipython3",
   "version": "3.9.12"
  }
 },
 "nbformat": 4,
 "nbformat_minor": 5
}
