{
 "cells": [
  {
   "cell_type": "markdown",
   "id": "47638e1b",
   "metadata": {},
   "source": [
    "1. What advantages do Excel spreadsheets have over CSV spreadsheets?\n",
    "2.What do you pass to csv.reader() and csv.writer() to create reader and writer objects?\n",
    "3. What modes do File objects for reader and writer objects need to be opened in?\n",
    "4. What method takes a list argument and writes it to a CSV file?\n",
    "5. What do the keyword arguments delimiter and line terminator do?\n",
    "6. What function takes a string of JSON data and returns a Python data structure?\n",
    "7. What function takes a Python data structure and returns a string of JSON data?\n"
   ]
  },
  {
   "cell_type": "code",
   "execution_count": 1,
   "id": "9932d49e",
   "metadata": {},
   "outputs": [],
   "source": [
    "#Ans 1\n",
    "\"\"\"\n",
    "Excel spreasheets can be used to store more complex data compared to CSV files.\n",
    "Addtionally, csv is a flat file and doesn't allow you to perform any operations on it. whereas, you can\n",
    "apply mathematical formulas on the data present in an excel file. Therefore, pandas library is predominatly used to\n",
    "write a csv file into a dataframe so EDA can be achieved.\n",
    "\n",
    "\"\"\""
   ]
  },
  {
   "cell_type": "code",
   "execution_count": 50,
   "id": "de6c2432",
   "metadata": {},
   "outputs": [
    {
     "name": "stdout",
     "output_type": "stream",
     "text": [
      "['age;\"job\";\"marital\";\"education\";\"default\";\"balance\";\"housing\";\"loan\";\"contact\";\"day\";\"month\";\"duration\";\"campaign\";\"pdays\";\"previous\";\"poutcome\";\"y\"']\n",
      "['30;\"unemployed\";\"married\";\"primary\";\"no\";1787;\"no\";\"no\";\"cellular\";19;\"oct\";79;1;-1;0;\"unknown\";\"no\"']\n",
      "['33;\"services\";\"married\";\"secondary\";\"no\";4789;\"yes\";\"yes\";\"cellular\";11;\"may\";220;1;339;4;\"failure\";\"no\"']\n",
      "['35;\"management\";\"single\";\"tertiary\";\"no\";1350;\"yes\";\"no\";\"cellular\";16;\"apr\";185;1;330;1;\"failure\";\"no\"']\n",
      "['30;\"management\";\"married\";\"tertiary\";\"no\";1476;\"yes\";\"yes\";\"unknown\";3;\"jun\";199;4;-1;0;\"unknown\";\"no\"']\n"
     ]
    }
   ],
   "source": [
    "#Ans 2.What do you pass to csv.reader() and csv.writer() to create reader and writer objects?\n",
    "# we have to open the file before we pass anything to the csv.reader() and csv.writer() object. we pass iterable \n",
    "# and file object  to these methods respectively.below is the example:\n",
    "import csv\n",
    "with open('bank.csv') as a:\n",
    "    f=csv.reader(a)\n",
    "    for i in f:\n",
    "        print(i)\n",
    "        \n",
    "with open('bank.csv') as b:\n",
    "    f=csv.writer(b)\n",
    "    f.writerow('303;\"management\";\"married\";\"tertiary\";\"no\";1476;\"yes\";\"yes\";\"unknown\";3;\"jun\";199;4;-1;0;\"unknown\";\"no\"')\n",
    "         \n"
   ]
  },
  {
   "cell_type": "code",
   "execution_count": 55,
   "id": "5c5c937a",
   "metadata": {},
   "outputs": [],
   "source": [
    "#Ans 2 cont.\n",
    "with open('bank.csv','w') as b:\n",
    "    f=csv.writer(b, delimiter=';')\n",
    "    f.writerow(['30;\"management\";\"married\";\"tertiary\";\"no\";1476;\"yes\";\"yes\";\"unknown\";3;\"jun\";199;4;-1;0;\"unknown\";\"no\"'])\n",
    "         \n"
   ]
  },
  {
   "cell_type": "code",
   "execution_count": null,
   "id": "39b4ce2d",
   "metadata": {},
   "outputs": [],
   "source": [
    "#Ans 3. What modes do File objects for reader and writer objects need to be opened in?\n",
    "\"\"\"\n",
    "for reading, the mode must be 'r' and for writing, the mode must be either 'w' or 'r+'\n",
    "\n",
    "\"\"\"\n",
    "\n"
   ]
  },
  {
   "cell_type": "code",
   "execution_count": null,
   "id": "afef4193",
   "metadata": {},
   "outputs": [],
   "source": [
    "#Ans 4. What method takes a list argument and writes it to a CSV file?\n",
    "\"\"\"\n",
    "writerow() method\n",
    "\n",
    "\"\"\"\n",
    "\n"
   ]
  },
  {
   "cell_type": "code",
   "execution_count": null,
   "id": "6366b053",
   "metadata": {},
   "outputs": [],
   "source": [
    "#Ans 5 5. What do the keyword arguments delimiter and line terminator do?\n",
    "\"\"\"\n",
    "delimiter is a field seperator which is used to seperate the fields\n",
    "in a csv file, comma is a delimiter. Terminator is used to show the end\n",
    "of a row which is by default new line character or \\n\n",
    "\n",
    "\"\"\"\n"
   ]
  },
  {
   "cell_type": "code",
   "execution_count": null,
   "id": "e89af8f0",
   "metadata": {},
   "outputs": [],
   "source": [
    "# 6. What function takes a string of JSON data and returns a Python data structure?\n",
    "\"\"\"\n",
    "json.loads()\n",
    "\n",
    "\"\"\""
   ]
  },
  {
   "cell_type": "code",
   "execution_count": null,
   "id": "4477e59e",
   "metadata": {},
   "outputs": [],
   "source": [
    "# 7. What function takes a Python data structure and returns a string of JSON data?\n",
    "\n",
    "\"\"\"\n",
    "json.dump()\n",
    "\n",
    "\"\"\""
   ]
  }
 ],
 "metadata": {
  "kernelspec": {
   "display_name": "Python 3 (ipykernel)",
   "language": "python",
   "name": "python3"
  },
  "language_info": {
   "codemirror_mode": {
    "name": "ipython",
    "version": 3
   },
   "file_extension": ".py",
   "mimetype": "text/x-python",
   "name": "python",
   "nbconvert_exporter": "python",
   "pygments_lexer": "ipython3",
   "version": "3.9.12"
  }
 },
 "nbformat": 4,
 "nbformat_minor": 5
}
