{
 "cells": [
  {
   "cell_type": "markdown",
   "id": "da783cc1",
   "metadata": {},
   "source": [
    "1.\tWrite a Python program to convert kilometers to miles?\n",
    "2.\tWrite a Python program to convert Celsius to Fahrenheit?\n",
    "3.\tWrite a Python program to display calendar?\n",
    "4.\tWrite a Python program to solve quadratic equation?\n",
    "5.\tWrite a Python program to swap two variables without temp variable?\n"
   ]
  },
  {
   "cell_type": "code",
   "execution_count": 2,
   "id": "38bd889a",
   "metadata": {},
   "outputs": [
    {
     "name": "stdout",
     "output_type": "stream",
     "text": [
      "Enter the value in Kilometers2\n",
      "the value in miles is 1.2428\n"
     ]
    }
   ],
   "source": [
    "#Ans1\n",
    "x=int(input('Enter the value in Kilometers'))\n",
    "y=x*.6214\n",
    "print(f'the value in miles is {y}')"
   ]
  },
  {
   "cell_type": "code",
   "execution_count": 4,
   "id": "f5859682",
   "metadata": {},
   "outputs": [
    {
     "name": "stdout",
     "output_type": "stream",
     "text": [
      "Enter the value in Celsius2\n",
      "the value in Fahrenheit is 35.6\n"
     ]
    }
   ],
   "source": [
    "#Ans2\n",
    "cel=int(input('Enter the value in Celsius'))\n",
    "F=cel*(9/5)+32\n",
    "print(f'the value in Fahrenheit is {F}')"
   ]
  },
  {
   "cell_type": "code",
   "execution_count": null,
   "id": "b6e55c77",
   "metadata": {},
   "outputs": [],
   "source": [
    "#Ans3\n",
    "import calendar\n",
    "yr=int(input('Please Enter the Year'))\n",
    "month=int(input('Please enter the month'))\n",
    "print(calendar.month(yr,month))\n"
   ]
  },
  {
   "cell_type": "code",
   "execution_count": 23,
   "id": "45fed0f1",
   "metadata": {},
   "outputs": [
    {
     "name": "stdout",
     "output_type": "stream",
     "text": [
      "Please Enter the value of a, b,c and x, seperated by a comma1,2,3,4\n",
      "27\n"
     ]
    }
   ],
   "source": [
    "#Ans4\n",
    "a,b,c,x=map(int,input('Please Enter the value of a, b,c and x, seperated by a comma').split(','))\n",
    "print(a*(x*x)+b*x+c)\n",
    "\n"
   ]
  },
  {
   "cell_type": "code",
   "execution_count": 5,
   "id": "a1d6a93d",
   "metadata": {},
   "outputs": [
    {
     "name": "stdout",
     "output_type": "stream",
     "text": [
      "Enter the first variable2\n",
      "Enter the second variable4\n",
      "the first variable is 4 and the second variable is 2\n"
     ]
    }
   ],
   "source": [
    "#Ans5:Write a Python program to swap two variables without temp variable?\n",
    "a=int(input('Enter the first variable'))\n",
    "b=int(input('Enter the second variable'))\n",
    "print(f'the first variable is {b} and the second variable is {a}')"
   ]
  },
  {
   "cell_type": "code",
   "execution_count": null,
   "id": "bbc0a8e1",
   "metadata": {},
   "outputs": [],
   "source": []
  }
 ],
 "metadata": {
  "kernelspec": {
   "display_name": "Python 3 (ipykernel)",
   "language": "python",
   "name": "python3"
  },
  "language_info": {
   "codemirror_mode": {
    "name": "ipython",
    "version": 3
   },
   "file_extension": ".py",
   "mimetype": "text/x-python",
   "name": "python",
   "nbconvert_exporter": "python",
   "pygments_lexer": "ipython3",
   "version": "3.9.12"
  }
 },
 "nbformat": 4,
 "nbformat_minor": 5
}
