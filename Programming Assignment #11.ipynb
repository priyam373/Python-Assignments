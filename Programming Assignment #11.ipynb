{
 "cells": [
  {
   "cell_type": "markdown",
   "id": "c3ffb481",
   "metadata": {},
   "source": [
    "1.\tWrite a Python program to find words which are greater than given length k?\n",
    "2.\tWrite a Python program for removing i-th character from a string?\n",
    "3.\tWrite a Python program to split and join a string?\n",
    "4.\tWrite a Python to check if a given string is binary string or not?\n",
    "5.\tWrite a Python program to find uncommon words from two Strings? to be done\n",
    "6.\tWrite a Python to find all duplicate characters in string?\n",
    "7.\tWrite a Python Program to check if a string contains any special character?\n"
   ]
  },
  {
   "cell_type": "code",
   "execution_count": 10,
   "id": "287b5257",
   "metadata": {},
   "outputs": [
    {
     "name": "stdout",
     "output_type": "stream",
     "text": [
      "Enter a word: I aspire to be a data scientist\n",
      "please enter the length4\n",
      "aspire\n",
      "scientist\n"
     ]
    }
   ],
   "source": [
    "#Ans 1 Write a Python program to find words which are greater than given length k?\n",
    "word=input('Enter a word: ').split()\n",
    "#print(word)\n",
    "word_len=int(input('please enter the length'))\n",
    "for i in word:\n",
    "    if len(i)>word_len:\n",
    "        print(i)\n",
    "    "
   ]
  },
  {
   "cell_type": "code",
   "execution_count": 2,
   "id": "e5b059be",
   "metadata": {},
   "outputs": [
    {
     "name": "stdout",
     "output_type": "stream",
     "text": [
      "Enter a string: priyam chaturvedi\n",
      "Enter the index of the element that you want to remove from the string: 8\n",
      "h\n"
     ]
    },
    {
     "data": {
      "text/plain": [
       "'priyam caturvedi'"
      ]
     },
     "execution_count": 2,
     "metadata": {},
     "output_type": "execute_result"
    }
   ],
   "source": [
    "#Ans 2: Write a Python program for removing i-th character from a string?\n",
    "a=input('Enter a string: ')\n",
    "element=int(input('Enter the index of the element that you want to remove from the string: '))\n",
    "ith_elem=a[element]\n",
    "print(ith_elem)\n",
    "a.replace(ith_elem,'')\n",
    "\n",
    "        \n",
    "\n",
    "\n",
    "    \n"
   ]
  },
  {
   "cell_type": "code",
   "execution_count": 1,
   "id": "d689d96d",
   "metadata": {},
   "outputs": [
    {
     "name": "stdout",
     "output_type": "stream",
     "text": [
      "please enter a string: priyam chaturvedi\n"
     ]
    },
    {
     "data": {
      "text/plain": [
       "['priyam', 'chaturvedi']"
      ]
     },
     "execution_count": 1,
     "metadata": {},
     "output_type": "execute_result"
    }
   ],
   "source": [
    "#Ans 3: Write a Python program to split and join a string?\n",
    "# program to split a string\n",
    "x=input('please enter a string: ')\n",
    "x.split()\n",
    "\n"
   ]
  },
  {
   "cell_type": "code",
   "execution_count": 3,
   "id": "f964f62b",
   "metadata": {},
   "outputs": [
    {
     "name": "stdout",
     "output_type": "stream",
     "text": [
      "enter the first stringpriyam\n",
      "enter the second stringchaturvedi\n"
     ]
    },
    {
     "data": {
      "text/plain": [
       "'priyamchaturvedi'"
      ]
     },
     "execution_count": 3,
     "metadata": {},
     "output_type": "execute_result"
    }
   ],
   "source": [
    "#Ans 3(cont) program to join a string\n",
    "a=input('enter the first string')\n",
    "b=input('enter the second string')\n",
    "a+b"
   ]
  },
  {
   "cell_type": "code",
   "execution_count": 17,
   "id": "fc873a0b",
   "metadata": {},
   "outputs": [
    {
     "name": "stdout",
     "output_type": "stream",
     "text": [
      "please enter a string: 10111110101\n",
      "it is a binary digit\n"
     ]
    }
   ],
   "source": [
    "#Ans 4: Write a Python to check if a given string is binary string or not?\n",
    "\n",
    "b=input('please enter a string: ')\n",
    "count=0\n",
    "if b.isdigit()==True:\n",
    "    for i in b:\n",
    "        if i=='0' or i=='1':\n",
    "            count+=1\n",
    "    if count==len(b):\n",
    "        print('it is a binary digit')\n",
    "    else:\n",
    "        print('it is not a binary digit')\n",
    "\n",
    "else:\n",
    "    print('it is not a binary digit')"
   ]
  },
  {
   "cell_type": "code",
   "execution_count": 4,
   "id": "a52601f4",
   "metadata": {},
   "outputs": [
    {
     "data": {
      "text/plain": [
       "['a', 'r', 'i']"
      ]
     },
     "execution_count": 4,
     "metadata": {},
     "output_type": "execute_result"
    }
   ],
   "source": [
    "#Ans 5: Write a Python program to find uncommon words from two Strings?\n",
    "a='priyam'\n",
    "b='chaturvedi'\n",
    "count=0\n",
    "l=[]\n",
    "for i in a:\n",
    "    for j in b:\n",
    "        if i==j:\n",
    "            count+=1\n",
    "            l.append(i)\n",
    "    #print(l)\n",
    "a+b\n",
    "a=set(l)\n",
    "list(a)\n",
    "            \n",
    "        "
   ]
  },
  {
   "cell_type": "code",
   "execution_count": 43,
   "id": "5cff6d4a",
   "metadata": {},
   "outputs": [
    {
     "name": "stdout",
     "output_type": "stream",
     "text": [
      "the uncommon word is: d\n",
      "the uncommon word is: g\n"
     ]
    }
   ],
   "source": [
    "a='acde'\n",
    "b='acge'\n",
    "for i in a:\n",
    "    for j in b:\n",
    "        if i==j:\n",
    "            break\n",
    "    else:\n",
    "        print(f'the uncommon word is: {i}')\n",
    "\n",
    "for i in b:\n",
    "    for j in a:\n",
    "        if i==j:\n",
    "            break\n",
    "    else:\n",
    "        print(f'the uncommon word is: {i}')\n",
    "    "
   ]
  },
  {
   "cell_type": "code",
   "execution_count": null,
   "id": "7896a2bf",
   "metadata": {},
   "outputs": [],
   "source": [
    "i='p'\n",
    "b='prgyam'\n",
    "for j in b:\n",
    "    if i==j:\n",
    "        \n",
    "    "
   ]
  },
  {
   "cell_type": "code",
   "execution_count": 38,
   "id": "c908fea9",
   "metadata": {},
   "outputs": [
    {
     "name": "stdout",
     "output_type": "stream",
     "text": [
      "please enter a string/sentence:i am going to be data scientist\n",
      "The duplicate characters are: {'i', 't', 's', 'n', 'g', 'o', 'e', 'a'}\n"
     ]
    }
   ],
   "source": [
    "#Ans 6: Write a Python to find all duplicate characters in string?\n",
    "str=input('please enter a string/sentence:')\n",
    "l1=[]\n",
    "l2=[]\n",
    "count=0\n",
    "for i in str:\n",
    "    for j in str[::-1]:\n",
    "        if i==j and i!=' ':\n",
    "            count+=1\n",
    "            if count>1:\n",
    "                l1.append(i)\n",
    "    count=0\n",
    "print('The duplicate characters are:',set(l1))"
   ]
  },
  {
   "cell_type": "code",
   "execution_count": 30,
   "id": "dcaf4680",
   "metadata": {},
   "outputs": [
    {
     "name": "stdout",
     "output_type": "stream",
     "text": [
      "There is a special character in the string\n"
     ]
    }
   ],
   "source": [
    "#Ans 7: Write a Python Program to check if a string contains any special character?\n",
    "string = '@priya4M'\n",
    "string=string.lower()\n",
    "lst = []\n",
    "for letter in string:\n",
    "    lst.append(letter)\n",
    "    ascii=ord(letter)\n",
    "    if ascii<97 or ascii>122:\n",
    "        print('There is a special character in the string')\n",
    "        break\n",
    "\n",
    "\n",
    "else:\n",
    "    print('the string contains no special character')\n"
   ]
  }
 ],
 "metadata": {
  "kernelspec": {
   "display_name": "Python 3 (ipykernel)",
   "language": "python",
   "name": "python3"
  },
  "language_info": {
   "codemirror_mode": {
    "name": "ipython",
    "version": 3
   },
   "file_extension": ".py",
   "mimetype": "text/x-python",
   "name": "python",
   "nbconvert_exporter": "python",
   "pygments_lexer": "ipython3",
   "version": "3.9.12"
  }
 },
 "nbformat": 4,
 "nbformat_minor": 5
}
