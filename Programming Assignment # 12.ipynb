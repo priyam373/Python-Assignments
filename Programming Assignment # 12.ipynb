{
 "cells": [
  {
   "cell_type": "markdown",
   "id": "91884cb2",
   "metadata": {},
   "source": [
    "1.\tWrite a Python program to Extract Unique values dictionary values?\n",
    "2.\tWrite a Python program to find the sum of all items in a dictionary? to be done\n",
    "3.\tWrite a Python program to Merging two Dictionaries?\n",
    "4.\tWrite a Python program to convert key-values list to flat dictionary?\n",
    "5.\tWrite a Python program to insertion at the beginning in OrderedDict?\n",
    "6.\tWrite a Python program to check order of character in string using OrderedDict()?\n",
    "7.\tWrite a Python program to sort Python Dictionaries by Key or Value?\n"
   ]
  },
  {
   "cell_type": "code",
   "execution_count": null,
   "id": "a8bd6847",
   "metadata": {},
   "outputs": [],
   "source": [
    "#Ans 1 Write a Python program to Extract Unique values dictionary values?"
   ]
  },
  {
   "cell_type": "code",
   "execution_count": 35,
   "id": "fa52f902",
   "metadata": {},
   "outputs": [
    {
     "name": "stdout",
     "output_type": "stream",
     "text": [
      "the duplicate values are ['value', 'value2']\n",
      "the unique value/s: ['value4', 'value6']\n"
     ]
    }
   ],
   "source": [
    "dict={'key1':'value','key2':'value2','key3':'value','key4':'value4','key5':'value2','key6':'value6'}\n",
    "l=list(dict.values())\n",
    "l1=[]\n",
    "l2=l.copy()\n",
    "for i in range(0,len(l)):\n",
    "    for j in range(i+1,len(l)):\n",
    "        if l[i]==l[j]:\n",
    "            l1.append(l[i])\n",
    "print(f'the duplicate values are {l1}')\n",
    "\n",
    "\n",
    "\n",
    "\n",
    "for i in l1:\n",
    "    for j in l2:\n",
    "        if i==j:\n",
    "            l2.remove(i)\n",
    "print(f'the unique value/s: {l2}')\n",
    "            \n",
    "    \n"
   ]
  },
  {
   "cell_type": "code",
   "execution_count": 77,
   "id": "02bd7066",
   "metadata": {},
   "outputs": [
    {
     "data": {
      "text/plain": [
       "9"
      ]
     },
     "execution_count": 77,
     "metadata": {},
     "output_type": "execute_result"
    }
   ],
   "source": [
    "#Ans2 Write a Python program to find the sum of all items in a dictionary?\n",
    "dict={'a':1,'b':2,'c':6}\n",
    "\n",
    "sum(dict.values())"
   ]
  },
  {
   "cell_type": "code",
   "execution_count": 34,
   "id": "b9e06770",
   "metadata": {},
   "outputs": [
    {
     "name": "stdout",
     "output_type": "stream",
     "text": [
      "{'a': 2, 'b': 3}\n"
     ]
    }
   ],
   "source": [
    "#Ans 3: Write a Python program to Merging two Dictionaries?\n",
    "d1={'a':2}\n",
    "d2={'b':3}\n",
    "for i in d2.keys():\n",
    "    d1[i]=d2[i]\n",
    "print(d1)"
   ]
  },
  {
   "cell_type": "code",
   "execution_count": 3,
   "id": "94211e68",
   "metadata": {},
   "outputs": [
    {
     "name": "stdout",
     "output_type": "stream",
     "text": [
      "{'a': 2, 'b': 4, 'c': 6}\n"
     ]
    }
   ],
   "source": [
    "#Ans 4: Write a Python program to convert key-values list to flat dictionary?\n",
    "key=['a','b','c']\n",
    "value=[2,4,6]\n",
    "dict={}\n",
    "for i in range(0,len(key)):\n",
    "    dict[key[i]]=value[i]\n",
    "print(dict)"
   ]
  },
  {
   "cell_type": "code",
   "execution_count": 53,
   "id": "5e29e0fe",
   "metadata": {},
   "outputs": [
    {
     "name": "stdout",
     "output_type": "stream",
     "text": [
      "OrderedDict([('d', 4), ('a', 1), ('b', 2), ('c', 3)])\n"
     ]
    }
   ],
   "source": [
    "#Ans 5: Write a Python program to insert at the beginning in OrderedDict?\n",
    "from collections import OrderedDict\n",
    "od = OrderedDict()\n",
    "od['a']=1\n",
    "od['b']=2\n",
    "od['c']=3\n",
    "insert=OrderedDict([('d',4)])\n",
    "l1=list(insert.items())\n",
    "l2=list(od.items())\n",
    "new_dict=OrderedDict(l1+l2)\n",
    "print(new_dict)"
   ]
  },
  {
   "cell_type": "code",
   "execution_count": 72,
   "id": "819220eb",
   "metadata": {},
   "outputs": [
    {
     "name": "stdout",
     "output_type": "stream",
     "text": [
      "True\n"
     ]
    }
   ],
   "source": [
    "#Ans 6: Write a Python program to check order of character in string using OrderedDict()?\n",
    "from collections import OrderedDict\n",
    "input='data science'\n",
    "pattern='ds'\n",
    "d=OrderedDict.fromkeys(input)\n",
    "i=0\n",
    "for key,value in d.items():\n",
    "    if key==pattern[i]:\n",
    "        i+=1\n",
    "    \n",
    "    if i==len(pattern):\n",
    "        print(True)\n",
    "        break\n",
    "else:\n",
    "    print(False)"
   ]
  },
  {
   "cell_type": "code",
   "execution_count": 32,
   "id": "ae547cf2",
   "metadata": {},
   "outputs": [
    {
     "name": "stdout",
     "output_type": "stream",
     "text": [
      "press 1 if the dictionary needs to be sorted by key and press 2 if by value2\n",
      "{'a': 2, 'c': 6, 'b': 8}\n"
     ]
    }
   ],
   "source": [
    "#Ans 7 Write a Python program to sort Python Dictionaries by Key or Value?\n",
    "dict={'a':8,'c':2,'b':6}\n",
    "sorted_dict={}\n",
    "key=list(dict.keys())\n",
    "value=list(dict.values())\n",
    "num=int(input('press 1 if the dictionary needs to be sorted by key and press 2 if by value'))\n",
    "if num==1:\n",
    "    key=sorted(key)\n",
    "    \n",
    "    for i in range(0,len(key)):\n",
    "       \n",
    "        sorted_dict[key[i]]=value[i]\n",
    "    print(sorted_dict)\n",
    "   \n",
    "elif num==2:\n",
    "    value=sorted(value)\n",
    "    \n",
    "    for i in range(0,len(key)):\n",
    "        dict[key[i]]=value[i]\n",
    "    print(dict)\n",
    "   \n",
    "else:\n",
    "    print('please enter a valid number')\n",
    "\n"
   ]
  },
  {
   "cell_type": "code",
   "execution_count": null,
   "id": "abe56870",
   "metadata": {},
   "outputs": [],
   "source": []
  },
  {
   "cell_type": "code",
   "execution_count": null,
   "id": "4c27c525",
   "metadata": {},
   "outputs": [],
   "source": []
  }
 ],
 "metadata": {
  "kernelspec": {
   "display_name": "Python 3 (ipykernel)",
   "language": "python",
   "name": "python3"
  },
  "language_info": {
   "codemirror_mode": {
    "name": "ipython",
    "version": 3
   },
   "file_extension": ".py",
   "mimetype": "text/x-python",
   "name": "python",
   "nbconvert_exporter": "python",
   "pygments_lexer": "ipython3",
   "version": "3.9.12"
  }
 },
 "nbformat": 4,
 "nbformat_minor": 5
}
