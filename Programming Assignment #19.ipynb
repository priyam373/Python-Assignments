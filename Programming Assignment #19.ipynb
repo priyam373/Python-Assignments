{
 "cells": [
  {
   "cell_type": "markdown",
   "id": "c0db7ecf",
   "metadata": {},
   "source": [
    "Q1: Create a function that takes a string and returns a string in which each character is repeated once.\n",
    "Examples\n",
    "double_char(\"String\") ➞ \"SSttrriinngg\"\n",
    "\n",
    "double_char(\"Hello World!\") ➞ \"HHeelllloo  WWoorrlldd!!\"\n",
    "\n",
    "double_char(\"1234!_ \") ➞ \"11223344!!__  \"\n",
    "\n"
   ]
  },
  {
   "cell_type": "code",
   "execution_count": 12,
   "id": "fb892a2a",
   "metadata": {},
   "outputs": [],
   "source": [
    "#Solution 1\n",
    "def double_char(str):\n",
    "    for i in str:\n",
    "        print(i*2,end='')"
   ]
  },
  {
   "cell_type": "code",
   "execution_count": 17,
   "id": "b57933c1",
   "metadata": {},
   "outputs": [
    {
     "name": "stdout",
     "output_type": "stream",
     "text": [
      "11223344!!__  "
     ]
    }
   ],
   "source": [
    "double_char(\"1234!_ \")"
   ]
  },
  {
   "cell_type": "markdown",
   "id": "fc782452",
   "metadata": {},
   "source": [
    "Q2: Create a function that reverses a boolean value and returns the string \"boolean expected\" if another variable type is given.\n",
    "Examples\n",
    "reverse(True) ➞ False\n",
    "\n",
    "reverse(False) ➞ True\n",
    "\n",
    "reverse(0) ➞ \"boolean expected\"\n",
    "\n",
    "reverse(None) ➞ \"boolean expected\"\n"
   ]
  },
  {
   "cell_type": "code",
   "execution_count": 28,
   "id": "facf08ea",
   "metadata": {},
   "outputs": [
    {
     "name": "stdout",
     "output_type": "stream",
     "text": [
      "true\n",
      "False\n"
     ]
    }
   ],
   "source": [
    "#Solution 2\n",
    "str=input()\n",
    "if str=='True'or str=='true':\n",
    "    print(False)\n",
    "elif str=='False' or str=='false':\n",
    "    print(True)\n",
    "else:\n",
    "    print('boolean expected')\n"
   ]
  },
  {
   "cell_type": "markdown",
   "id": "73b8609b",
   "metadata": {},
   "source": [
    "Q3:Create a function that returns the thickness (in meters) of a piece of paper after folding it n number of times. The paper starts off with a thickness of 0.5mm.\n",
    "Examples\n",
    "num_layers(1) ➞ \"0.001m\"\n",
    "#Paper folded once is 1mm (equal to 0.001m)\n",
    "\n",
    "num_layers(4) ➞ \"0.008m\"\n",
    "#Paper folded 4 times is 8mm (equal to 0.008m)\n",
    "\n",
    "num_layers(21) ➞ \"1048.576m\"\n",
    "#Paper folded 21 times is 1048576mm (equal to 1048.576m)\n"
   ]
  },
  {
   "cell_type": "code",
   "execution_count": 56,
   "id": "2e8cd194",
   "metadata": {},
   "outputs": [],
   "source": [
    "#Solution 3:\n",
    "def num_layers(n):\n",
    "    x=.5\n",
    "    for _ in range(n):\n",
    "        x*=2\n",
    "    return (x/1000)\n",
    "    \n",
    "    "
   ]
  },
  {
   "cell_type": "code",
   "execution_count": 58,
   "id": "1699995e",
   "metadata": {},
   "outputs": [
    {
     "data": {
      "text/plain": [
       "1048.576"
      ]
     },
     "execution_count": 58,
     "metadata": {},
     "output_type": "execute_result"
    }
   ],
   "source": [
    "num_layers(21)"
   ]
  },
  {
   "cell_type": "code",
   "execution_count": 45,
   "id": "8661bd78",
   "metadata": {},
   "outputs": [
    {
     "data": {
      "text/plain": [
       "0.002"
      ]
     },
     "execution_count": 45,
     "metadata": {},
     "output_type": "execute_result"
    }
   ],
   "source": [
    "fn(2)"
   ]
  },
  {
   "cell_type": "markdown",
   "id": "86ba99b7",
   "metadata": {},
   "source": [
    "Q4: Create a function that takes a single string as argument and returns an ordered list containing the indices of all capital letters in the string.\n",
    "Examples\n",
    "index_of_caps(\"eDaBiT\") ➞ [1, 3, 5]\n",
    "\n",
    "index_of_caps(\"eQuINoX\") ➞ [1, 3, 4, 6]\n",
    "\n",
    "index_of_caps(\"determine\") ➞ []\n",
    "\n",
    "index_of_caps(\"STRIKE\") ➞ [0, 1, 2, 3, 4, 5]\n",
    "\n",
    "index_of_caps(\"sUn\") ➞ [1]\n"
   ]
  },
  {
   "cell_type": "code",
   "execution_count": 1,
   "id": "3832706a",
   "metadata": {},
   "outputs": [],
   "source": [
    "#Ans 4\n",
    "l1=[]\n",
    "def index_of_caps(str):\n",
    "    for i in str:\n",
    "        \n",
    "        if i.isupper()==True:\n",
    "            l1.append(str.index(i))\n",
    "    print(l1)\n",
    "            "
   ]
  },
  {
   "cell_type": "code",
   "execution_count": 2,
   "id": "439db150",
   "metadata": {},
   "outputs": [
    {
     "name": "stdout",
     "output_type": "stream",
     "text": [
      "[]\n"
     ]
    }
   ],
   "source": [
    "index_of_caps('determine')"
   ]
  },
  {
   "cell_type": "code",
   "execution_count": null,
   "id": "e91b75eb",
   "metadata": {},
   "outputs": [],
   "source": [
    "Q5: Using list comprehensions, create a function that finds all even numbers from 1 to the given number.\n",
    "Examples\n",
    "find_even_nums(8) ➞ [2, 4, 6, 8]\n",
    "\n",
    "find_even_nums(4) ➞ [2, 4]\n",
    "\n",
    "find_even_nums(2) ➞ [2]\n"
   ]
  },
  {
   "cell_type": "code",
   "execution_count": 17,
   "id": "ab5f8cae",
   "metadata": {},
   "outputs": [],
   "source": [
    "def find_even_nums(num):\n",
    "    l1=[]\n",
    "    l1=[i for i in range(1,num+1) if i%2==0]\n",
    "    print(l1)"
   ]
  },
  {
   "cell_type": "code",
   "execution_count": 18,
   "id": "b9cbc870",
   "metadata": {},
   "outputs": [
    {
     "name": "stdout",
     "output_type": "stream",
     "text": [
      "[2, 4, 6, 8]\n"
     ]
    }
   ],
   "source": [
    "find_even_nums(8)"
   ]
  },
  {
   "cell_type": "code",
   "execution_count": null,
   "id": "61290876",
   "metadata": {},
   "outputs": [],
   "source": []
  },
  {
   "cell_type": "code",
   "execution_count": null,
   "id": "fa96bbc2",
   "metadata": {},
   "outputs": [],
   "source": []
  }
 ],
 "metadata": {
  "kernelspec": {
   "display_name": "Python 3 (ipykernel)",
   "language": "python",
   "name": "python3"
  },
  "language_info": {
   "codemirror_mode": {
    "name": "ipython",
    "version": 3
   },
   "file_extension": ".py",
   "mimetype": "text/x-python",
   "name": "python",
   "nbconvert_exporter": "python",
   "pygments_lexer": "ipython3",
   "version": "3.9.12"
  }
 },
 "nbformat": 4,
 "nbformat_minor": 5
}
