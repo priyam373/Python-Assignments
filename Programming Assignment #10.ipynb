{
 "cells": [
  {
   "cell_type": "markdown",
   "id": "e54226ec",
   "metadata": {},
   "source": [
    "1.\tWrite a Python program to find sum of elements in list?\n",
    "2.\tWrite a Python program to  Multiply all numbers in the list?\n",
    "3.\tWrite a Python program to find smallest number in a list?\n",
    "4.\tWrite a Python program to find largest number in a list?\n",
    "5.\tWrite a Python program to find second largest number in a list?\n",
    "6.\tWrite a Python program to find N largest elements from a list?\n",
    "7.\tWrite a Python program to print even numbers in a list?\n",
    "8.\tWrite a Python program to print odd numbers in a List?\n",
    "9.\tWrite a Python program to Remove empty List from List?\n",
    "10.\tWrite a Python program to Cloning or Copying a list?\n",
    "11.\tWrite a Python program to Count occurrences of an element in a list?\n"
   ]
  },
  {
   "cell_type": "code",
   "execution_count": 25,
   "id": "01b89fcb",
   "metadata": {},
   "outputs": [
    {
     "name": "stdout",
     "output_type": "stream",
     "text": [
      "please enter the number of elements to insert into a list3\n",
      "1\n",
      "1\n",
      "1\n",
      "The list is: [1, 1, 1]\n",
      "The sum of list elements is: 3\n"
     ]
    }
   ],
   "source": [
    "#Ans1 \n",
    "list=[]\n",
    "n=int(input('please enter the number of elements to insert into a list'))\n",
    "for i in range(0,n):\n",
    "    ele=int(input())\n",
    "    list.append(ele)\n",
    "\n",
    "print(f'The list is: {list}')\n",
    "\n",
    "sum=0\n",
    "for k in list:\n",
    "    sum=k+sum\n",
    "print(f'The sum of list elements is: {sum}')"
   ]
  },
  {
   "cell_type": "code",
   "execution_count": 27,
   "id": "66716780",
   "metadata": {},
   "outputs": [
    {
     "name": "stdout",
     "output_type": "stream",
     "text": [
      "Enter the number of list elements3\n",
      "enter a list element3\n",
      "enter a list element3\n",
      "enter a list element3\n",
      "the list is: [3, 3, 3]\n",
      "The multiplication of the list is: 27\n"
     ]
    }
   ],
   "source": [
    "#Ans 2: Write a Python program to  Multiply all numbers in the list?\n",
    "\n",
    "list=[]\n",
    "mult=1\n",
    "n=int(input('Enter the number of list elements'))\n",
    "for i in range(0,n):\n",
    "    ele=int(input('enter a list element'))\n",
    "    list.append(ele)\n",
    "    mult=ele*mult\n",
    "print(f'the list is: {list}')\n",
    "print(f'The multiplication of the list is: {mult}')\n"
   ]
  },
  {
   "cell_type": "code",
   "execution_count": 31,
   "id": "49a389df",
   "metadata": {},
   "outputs": [
    {
     "name": "stdout",
     "output_type": "stream",
     "text": [
      "Enter the number of list elements3\n",
      "enter a list element3\n",
      "enter a list element4\n",
      "enter a list element5\n",
      "the list is: [3, 4, 5]\n",
      "the minimum number in the list is:  3\n"
     ]
    }
   ],
   "source": [
    "#Ans 3 Write a Python program to find smallest number in a list?\n",
    "list=[]\n",
    "mult=1\n",
    "n=int(input('Enter the number of list elements'))\n",
    "for i in range(0,n):\n",
    "    ele=int(input('enter a list element'))\n",
    "    list.append(ele)\n",
    "    \n",
    "print(f'the list is: {list}')\n",
    "print('the minimum number in the list is: ',min(list))\n"
   ]
  },
  {
   "cell_type": "code",
   "execution_count": 32,
   "id": "6482ac41",
   "metadata": {},
   "outputs": [
    {
     "name": "stdout",
     "output_type": "stream",
     "text": [
      "Enter the number of list elements4\n",
      "enter a list element3\n",
      "enter a list element33\n",
      "enter a list element324\n",
      "enter a list element3242\n",
      "the list is: [3, 33, 324, 3242]\n",
      "the minimum number in the list is:  3242\n"
     ]
    }
   ],
   "source": [
    "#Ans 4:Write a Python program to find largest number in a list?\n",
    "list=[]\n",
    "mult=1\n",
    "n=int(input('Enter the number of list elements'))\n",
    "for i in range(0,n):\n",
    "    ele=int(input('enter a list element'))\n",
    "    list.append(ele)\n",
    "    \n",
    "print(f'the list is: {list}')\n",
    "print('the minimum number in the list is: ',max(list))\n"
   ]
  },
  {
   "cell_type": "code",
   "execution_count": 21,
   "id": "eff98f2b",
   "metadata": {},
   "outputs": [
    {
     "name": "stdout",
     "output_type": "stream",
     "text": [
      "Enter the number of list elements5\n",
      "enter a list element: 1\n",
      "enter a list element: 22\n",
      "enter a list element: 12\n",
      "enter a list element: 11\n",
      "enter a list element: 444\n",
      "the list is: [1, 22, 12, 11, 444]\n",
      "22\n"
     ]
    }
   ],
   "source": [
    "#Ans 5: Write a Python program to find second largest number in a list?\n",
    "list=[]\n",
    "mult=1\n",
    "n=int(input('Enter the number of list elements'))\n",
    "for i in range(0,n):\n",
    "    ele=int(input('enter a list element: '))\n",
    "    list.append(ele)\n",
    "print(f'the list is: {list}')   \n",
    "list.sort(reverse=True)\n",
    "print(list[1])\n"
   ]
  },
  {
   "cell_type": "code",
   "execution_count": 28,
   "id": "6d02ab22",
   "metadata": {},
   "outputs": [
    {
     "name": "stdout",
     "output_type": "stream",
     "text": [
      "Enter the number of list elements4\n",
      "enter a list element: 44\n",
      "enter a list element: 33\n",
      "enter a list element: 22\n",
      "enter a list element: 11\n",
      "the list is: [44, 33, 22, 11]\n",
      "how many largest elements you want to find:2\n",
      "the first 2 elements are:[44, 33]\n"
     ]
    }
   ],
   "source": [
    "#Ans 6 Write a Python program to find N largest elements from a list?\n",
    "\n",
    "list=[]\n",
    "list1=[]\n",
    "mult=1\n",
    "n=int(input('Enter the number of list elements'))\n",
    "for i in range(0,n):\n",
    "    ele=int(input('enter a list element: '))\n",
    "    list.append(ele)\n",
    "print(f'the list is: {list}')\n",
    "list.sort(reverse=True)\n",
    "\n",
    "\n",
    "largest=int(input('how many largest elements you want to find:'))\n",
    "for i in range(0,largest):\n",
    "    a=list[i]\n",
    "    list1.append(a)\n",
    "    \n",
    "print(f'the first {largest} elements are:{list1}')\n"
   ]
  },
  {
   "cell_type": "code",
   "execution_count": 30,
   "id": "60716e32",
   "metadata": {},
   "outputs": [
    {
     "name": "stdout",
     "output_type": "stream",
     "text": [
      "please enter the number of elements to insert into a list4\n",
      "44\n",
      "33\n",
      "22\n",
      "11\n",
      "The list is: [44, 33, 22, 11]\n",
      "The even numbers are: [44, 22]\n"
     ]
    }
   ],
   "source": [
    "#Ans 7: Write a Python program to print even numbers in a list?\n",
    "list=[]\n",
    "list1=[]\n",
    "n=int(input('please enter the number of elements to insert into a list'))\n",
    "for i in range(0,n):\n",
    "    ele=int(input())\n",
    "    list.append(ele)\n",
    "\n",
    "print(f'The list is: {list}')\n",
    "\n",
    "for i in list:\n",
    "    if i%2==0:\n",
    "        list1.append(i)\n",
    "print(f'The even numbers are: {list1}')"
   ]
  },
  {
   "cell_type": "code",
   "execution_count": 31,
   "id": "0ec92c73",
   "metadata": {},
   "outputs": [
    {
     "name": "stdout",
     "output_type": "stream",
     "text": [
      "please enter the number of elements to insert into a list4\n",
      "44\n",
      "43\n",
      "42\n",
      "41\n",
      "The list is: [44, 43, 42, 41]\n",
      "The even numbers are: [43, 41]\n"
     ]
    }
   ],
   "source": [
    "#Ans 8: Write a Python program to print odd numbers in a List?\n",
    "list=[]\n",
    "list1=[]\n",
    "n=int(input('please enter the number of elements to insert into a list'))\n",
    "for i in range(0,n):\n",
    "    ele=int(input())\n",
    "    list.append(ele)\n",
    "\n",
    "print(f'The list is: {list}')\n",
    "\n",
    "for i in list:\n",
    "    if i%2!=0:\n",
    "        list1.append(i)\n",
    "print(f'The even numbers are: {list1}')"
   ]
  },
  {
   "cell_type": "code",
   "execution_count": 12,
   "id": "5b16b324",
   "metadata": {},
   "outputs": [
    {
     "name": "stdout",
     "output_type": "stream",
     "text": [
      "[2, 3, 4, 4]\n"
     ]
    }
   ],
   "source": [
    "#Ans 9: Write a Python program to Remove empty List from List?\n",
    "x=[2,3,4,[],4]\n",
    "for i in x:\n",
    "    if type(i)==list and len(i)==0:\n",
    "        x.remove(i)\n",
    "        print(x)"
   ]
  },
  {
   "cell_type": "code",
   "execution_count": 14,
   "id": "eaec4b79",
   "metadata": {},
   "outputs": [
    {
     "name": "stdout",
     "output_type": "stream",
     "text": [
      "please enter the number of elements to insert into a list4\n",
      "44\n",
      "32\n",
      "432\n",
      "5432\n",
      "The list is: [44, 32, 432, 5432]\n",
      "The list after it has been copied: [44, 32, 432, 5432]\n"
     ]
    }
   ],
   "source": [
    "#Ans 10: Write a Python program to Cloning or Copying a list?\n",
    "list=[]\n",
    "n=int(input('please enter the number of elements to insert into a list'))\n",
    "for i in range(0,n):\n",
    "    ele=int(input())\n",
    "    list.append(ele)\n",
    "\n",
    "print(f'The list is: {list}')\n",
    "copy_list=list.copy()\n",
    "print(f'The list after it has been copied: {copy_list}')"
   ]
  },
  {
   "cell_type": "code",
   "execution_count": 1,
   "id": "0f62453b",
   "metadata": {},
   "outputs": [
    {
     "name": "stdout",
     "output_type": "stream",
     "text": [
      "please enter the number of elements to insert into a list3\n",
      "33\n",
      "33\n",
      "22\n",
      "The list is: [33, 33, 22]\n",
      "what element's occurence you want to find33\n",
      "The occurrences of 33 is 2\n"
     ]
    }
   ],
   "source": [
    "#Ans 11: Write a Python program to Count occurrences of an element in a list?\n",
    "list=[]\n",
    "n=int(input('please enter the number of elements to insert into a list'))\n",
    "for i in range(0,n):\n",
    "    ele=int(input())\n",
    "    list.append(ele)\n",
    "\n",
    "print(f'The list is: {list}')\n",
    "x=int(input(\"what element's occurence you want to find\"))\n",
    "occurrence=list.count(x)\n",
    "print(f'The occurrences of {x} is {occurrence}')"
   ]
  },
  {
   "cell_type": "code",
   "execution_count": null,
   "id": "a7d07f03",
   "metadata": {},
   "outputs": [],
   "source": []
  }
 ],
 "metadata": {
  "kernelspec": {
   "display_name": "Python 3 (ipykernel)",
   "language": "python",
   "name": "python3"
  },
  "language_info": {
   "codemirror_mode": {
    "name": "ipython",
    "version": 3
   },
   "file_extension": ".py",
   "mimetype": "text/x-python",
   "name": "python",
   "nbconvert_exporter": "python",
   "pygments_lexer": "ipython3",
   "version": "3.9.12"
  }
 },
 "nbformat": 4,
 "nbformat_minor": 5
}
