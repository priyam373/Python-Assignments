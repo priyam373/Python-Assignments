{
 "cells": [
  {
   "cell_type": "markdown",
   "id": "ee0262a9",
   "metadata": {},
   "source": [
    "1.\tWrite a Python Program to Find the Factorial of a Number?\n",
    "2.\tWrite a Python Program to Display the multiplication Table?\n",
    "3.\tWrite a Python Program to Print the Fibonacci sequence?\n",
    "4.\tWrite a Python Program to Check Armstrong Number?\n",
    "5.\tWrite a Python Program to Find Armstrong Number in an Interval?\n",
    "6.\tWrite a Python Program to Find the Sum of Natural Numbers?\n"
   ]
  },
  {
   "cell_type": "code",
   "execution_count": 7,
   "id": "0a75c04e",
   "metadata": {},
   "outputs": [
    {
     "name": "stdout",
     "output_type": "stream",
     "text": [
      "Enter the number5\n",
      "the factorial of 5 is 120\n"
     ]
    }
   ],
   "source": [
    "#Ans 1\n",
    "num=int(input('Enter the number'))\n",
    "j=1\n",
    "for i in range(1,num+1):\n",
    "    j=i*j\n",
    "print(f'the factorial of {num} is {j}')"
   ]
  },
  {
   "cell_type": "code",
   "execution_count": 11,
   "id": "9cbf8341",
   "metadata": {
    "scrolled": true
   },
   "outputs": [
    {
     "name": "stdout",
     "output_type": "stream",
     "text": [
      "Enter the number5\n",
      "5x1=5\n",
      "5x2=10\n",
      "5x3=15\n",
      "5x4=20\n",
      "5x5=25\n",
      "5x6=30\n",
      "5x7=35\n",
      "5x8=40\n",
      "5x9=45\n",
      "5x10=50\n"
     ]
    }
   ],
   "source": [
    "#Ans2\n",
    "num=int(input('Enter the number'))\n",
    "for i in range(1,11):\n",
    "    print(f'{num}x{i}={num*i}')"
   ]
  },
  {
   "cell_type": "code",
   "execution_count": 55,
   "id": "d00a3f76",
   "metadata": {},
   "outputs": [
    {
     "name": "stdout",
     "output_type": "stream",
     "text": [
      "enter the number13\n",
      "0\n",
      "1\n",
      "1\n",
      "2\n",
      "3\n",
      "5\n",
      "8\n",
      "13\n",
      "21\n",
      "34\n",
      "55\n",
      "89\n",
      "144\n"
     ]
    }
   ],
   "source": [
    "#Ans3.\tWrite a Python Program to Print the Fibonacci sequence?\n",
    "j=0\n",
    "k=1\n",
    "num=int(input('enter the number'))\n",
    "for i in range(0,num):\n",
    "    print(j)\n",
    "    sum=j+k\n",
    "    j=k\n",
    "    k=sum\n",
    "    \n",
    "    \n",
    "    \n",
    "        \n",
    "    "
   ]
  },
  {
   "cell_type": "code",
   "execution_count": 41,
   "id": "cfd173d1",
   "metadata": {},
   "outputs": [
    {
     "name": "stdout",
     "output_type": "stream",
     "text": [
      "Please Enter a number371\n",
      "it is an armstrong number\n"
     ]
    }
   ],
   "source": [
    "#Ans 4\n",
    "# armstrong number is 371=27+343+1=371\n",
    "j=0\n",
    "num=input('Please Enter a number')\n",
    "for i in num:\n",
    "    j=int(i)**3+j\n",
    "if j==int(num):\n",
    "    print('it is an armstrong number')\n",
    "else:\n",
    "    print('it is not an armstrong number')\n"
   ]
  },
  {
   "cell_type": "code",
   "execution_count": 25,
   "id": "3e0bf6ae",
   "metadata": {},
   "outputs": [
    {
     "name": "stdout",
     "output_type": "stream",
     "text": [
      "Please Enter the lower range0\n",
      "Please Enter the upper range10000\n",
      "0 is an armstrong number\n",
      "1 is an armstrong number\n",
      "2 is an armstrong number\n",
      "3 is an armstrong number\n",
      "4 is an armstrong number\n",
      "5 is an armstrong number\n",
      "6 is an armstrong number\n",
      "7 is an armstrong number\n",
      "8 is an armstrong number\n",
      "9 is an armstrong number\n",
      "153 is an armstrong number\n",
      "370 is an armstrong number\n",
      "371 is an armstrong number\n",
      "407 is an armstrong number\n",
      "1634 is an armstrong number\n",
      "8208 is an armstrong number\n",
      "9474 is an armstrong number\n"
     ]
    }
   ],
   "source": [
    "#Ans5.\tWrite a Python Program to Find Armstrong Number in an Interval?\n",
    "K=0\n",
    "l_num=input('Please Enter the lower range')\n",
    "U_num=input('Please Enter the upper range')\n",
    "for i in range(int(l_num),int(U_num)+1):\n",
    "    for j in str(i):\n",
    "        l=len(str(i))\n",
    "        K=int(j)**l+K\n",
    "    #print(K)\n",
    "    if K==int(i):\n",
    "        print(f'{K} is an armstrong number')\n",
    "    K=0\n",
    "#else:\n",
    "    #print('it is not an armstrong number')\n"
   ]
  },
  {
   "cell_type": "code",
   "execution_count": 2,
   "id": "b0c17b59",
   "metadata": {},
   "outputs": [
    {
     "name": "stdout",
     "output_type": "stream",
     "text": [
      "Enter the 1st natural number 2\n",
      "Enter the 2nd natural number2\n",
      "the sum of natural numbers is 4\n"
     ]
    }
   ],
   "source": [
    "#Ans6.\tWrite a Python Program to Find the Sum of Natural Numbers?\n",
    "\n",
    "a= int(input('Enter the 1st natural number '))\n",
    "while a<1:\n",
    "    print('it is not a natural number')\n",
    "    a= int(input('Enter the 1st natural number'))\n",
    "    \n",
    "b=int(input('Enter the 2nd natural number'))\n",
    "while b<1:\n",
    "    print('it is not a natural number')\n",
    "    b= int(input('Enter the 2nd natural number'))\n",
    "    \n",
    "sum=a+b\n",
    "print(f'the sum of natural numbers is {sum}')\n"
   ]
  },
  {
   "cell_type": "code",
   "execution_count": null,
   "id": "d22949f7",
   "metadata": {},
   "outputs": [],
   "source": []
  }
 ],
 "metadata": {
  "kernelspec": {
   "display_name": "Python 3 (ipykernel)",
   "language": "python",
   "name": "python3"
  },
  "language_info": {
   "codemirror_mode": {
    "name": "ipython",
    "version": 3
   },
   "file_extension": ".py",
   "mimetype": "text/x-python",
   "name": "python",
   "nbconvert_exporter": "python",
   "pygments_lexer": "ipython3",
   "version": "3.9.12"
  }
 },
 "nbformat": 4,
 "nbformat_minor": 5
}
