{
 "cells": [
  {
   "cell_type": "markdown",
   "id": "49170fdc",
   "metadata": {},
   "source": [
    "1. Create a zoo.py file first. Define the hours() function, which prints the string 'Open 9-5 daily'. Then, use the interactive interpreter to import the zoo module and call its hours() function.\n",
    "2. In the interactive interpreter, import the zoo module as menagerie and call its hours() function.\n",
    "3. Using the interpreter, explicitly import and call the hours() function from zoo.\n",
    "4. Import the hours() function as info and call it.\n",
    "5. Create a plain dictionary with the key-value pairs 'a': 1, 'b': 2, and 'c': 3, and print it out.\n",
    "6.Make an OrderedDict called fancy from the same pairs listed in 5 and print it. Did it print in the same order as plain?\n",
    "7. Make a default dictionary called dict_of_lists and pass it the argument list. Make the list dict_of_lists['a'] and append the value 'something for a' to it in one assignment. Print dict_of_lists['a'].\n",
    "\n"
   ]
  },
  {
   "cell_type": "code",
   "execution_count": 1,
   "id": "b975dff1",
   "metadata": {},
   "outputs": [],
   "source": [
    "#Ans 1\n",
    "\"\"\"\n",
    "Create a zoo.py file first. Define the hours() function, which prints the string 'Open 9-5 daily'. \n",
    "Then, use the interactive interpreter to import the zoo module and call its hours() function.\n",
    "\"\"\"\n",
    "\n",
    "\n",
    "import os"
   ]
  },
  {
   "cell_type": "code",
   "execution_count": 2,
   "id": "2a7ff69f",
   "metadata": {},
   "outputs": [
    {
     "data": {
      "text/plain": [
       "'C:\\\\Users\\\\chatu\\\\Dropbox\\\\Ineuron Data Science and ML Course\\\\Assignments\\\\Python Assignments\\\\Doc Assignment'"
      ]
     },
     "execution_count": 2,
     "metadata": {},
     "output_type": "execute_result"
    }
   ],
   "source": [
    "os.getcwd()"
   ]
  },
  {
   "cell_type": "code",
   "execution_count": 3,
   "id": "4a8dd3d9",
   "metadata": {},
   "outputs": [],
   "source": [
    "f=open('zoo.py','w')"
   ]
  },
  {
   "cell_type": "code",
   "execution_count": 4,
   "id": "b0eed26a",
   "metadata": {},
   "outputs": [
    {
     "name": "stdout",
     "output_type": "stream",
     "text": [
      "Open 9-5 daily\n"
     ]
    }
   ],
   "source": [
    "import zoo\n",
    "zoo.hours()"
   ]
  },
  {
   "cell_type": "code",
   "execution_count": 5,
   "id": "9c3654ed",
   "metadata": {},
   "outputs": [
    {
     "name": "stdout",
     "output_type": "stream",
     "text": [
      "Open 9-5 daily\n"
     ]
    }
   ],
   "source": [
    "#Ans2\n",
    "\"\"\"\n",
    "In the interactive interpreter, import the zoo module as menagerie and call its hours() function\n",
    "\n",
    "\"\"\"\n",
    "import zoo as menagerie\n",
    "menagerie.hours()"
   ]
  },
  {
   "cell_type": "code",
   "execution_count": 9,
   "id": "8264db06",
   "metadata": {},
   "outputs": [
    {
     "name": "stdout",
     "output_type": "stream",
     "text": [
      "Open 9-5 daily\n"
     ]
    }
   ],
   "source": [
    "\"\"\"\n",
    "3. Using the interpreter, explicitly import and call the hours() function from zoo.\n",
    "\"\"\"\n",
    "from zoo import hours\n",
    "hours()\n"
   ]
  },
  {
   "cell_type": "code",
   "execution_count": 11,
   "id": "a6042e2f",
   "metadata": {},
   "outputs": [
    {
     "name": "stdout",
     "output_type": "stream",
     "text": [
      "Open 9-5 daily\n"
     ]
    }
   ],
   "source": [
    "\"\"\"\n",
    "4. Import the hours() function as info and call it.\n",
    "\n",
    "\"\"\"\n",
    "from zoo import hours as info\n",
    "info()\n"
   ]
  },
  {
   "cell_type": "code",
   "execution_count": 13,
   "id": "89b1f0cf",
   "metadata": {},
   "outputs": [
    {
     "data": {
      "text/plain": [
       "{'a': 1, 'b': 2, 'c': 3}"
      ]
     },
     "execution_count": 13,
     "metadata": {},
     "output_type": "execute_result"
    }
   ],
   "source": [
    "\"\"\"\n",
    "5. Create a plain dictionary with the key-value pairs 'a': 1, 'b': 2, and 'c': 3, and print it out.\n",
    "\"\"\"\n",
    "\n",
    "d={'a': 1,'b': 2,'c': 3}\n",
    "d"
   ]
  },
  {
   "cell_type": "code",
   "execution_count": 21,
   "id": "f881d311",
   "metadata": {},
   "outputs": [
    {
     "data": {
      "text/plain": [
       "OrderedDict([('a', 1), ('b', 2), ('c', 3)])"
      ]
     },
     "execution_count": 21,
     "metadata": {},
     "output_type": "execute_result"
    }
   ],
   "source": [
    "\"\"\"\n",
    "6.Make an OrderedDict called fancy from the same pairs listed in 5 and print it. \n",
    "Did it print in the same order as plain?\n",
    "\"\"\"\n",
    "from collections import OrderedDict\n",
    "Fancy=OrderedDict(d)\n",
    "Fancy\n",
    "#Ans: yes the order is the same."
   ]
  },
  {
   "cell_type": "code",
   "execution_count": 22,
   "id": "3c9f5eab",
   "metadata": {},
   "outputs": [
    {
     "name": "stdout",
     "output_type": "stream",
     "text": [
      "['something for a']\n"
     ]
    }
   ],
   "source": [
    "\"\"\"\n",
    "7. Make a default dictionary called dict_of_lists and pass it the argument list. Make the list dict_of_lists['a'] and \n",
    "append the value 'something for a' to it in one assignment. Print dict_of_lists['a'].\n",
    "\n",
    "\"\"\"\n",
    "\n",
    "from collections import defaultdict\n",
    "dict_of_lists=defaultdict(list)\n",
    "dict_of_lists['a'].append('something for a')\n",
    "print(dict_of_lists['a'])"
   ]
  },
  {
   "cell_type": "code",
   "execution_count": null,
   "id": "2c8613f2",
   "metadata": {},
   "outputs": [],
   "source": []
  }
 ],
 "metadata": {
  "kernelspec": {
   "display_name": "Python 3 (ipykernel)",
   "language": "python",
   "name": "python3"
  },
  "language_info": {
   "codemirror_mode": {
    "name": "ipython",
    "version": 3
   },
   "file_extension": ".py",
   "mimetype": "text/x-python",
   "name": "python",
   "nbconvert_exporter": "python",
   "pygments_lexer": "ipython3",
   "version": "3.9.12"
  }
 },
 "nbformat": 4,
 "nbformat_minor": 5
}
