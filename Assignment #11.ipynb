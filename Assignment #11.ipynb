{
 "cells": [
  {
   "cell_type": "markdown",
   "id": "ba7b9bc6",
   "metadata": {},
   "source": [
    "1. Create an assert statement that throws an AssertionError if the variable spam is a negative integer.\n",
    "2. Write an assert statement that triggers an AssertionError if the variables eggs and bacon contain strings that are the same as each other, even if their cases are different (that is, 'hello' and 'hello' are considered the same, and 'goodbye' and 'GOODbye' are also considered the same).\n",
    "3. Create an assert statement that throws an AssertionError every time.\n",
    "4. What are the two lines that must be present in your software in order to call logging.debug()?\n",
    "5. What are the two lines that your program must have in order to have logging.debug() send a logging message to a file named programLog.txt?\n",
    "6. What are the five levels of logging?\n",
    "7. What line of code would you add to your software to disable all logging messages?\n",
    "8.Why is using logging messages better than using print() to display the same message?\n",
    "9. What are the differences between the Step Over, Step In, and Step Out buttons in the debugger?\n",
    "10.After you click Continue, when will the debugger stop ?\n",
    "11. What is the concept of a breakpoint?\n",
    "\n"
   ]
  },
  {
   "cell_type": "markdown",
   "id": "7f11c2d9",
   "metadata": {},
   "source": [
    "1. Create an assert statement that throws an AssertionError if the variable spam is a negative integer."
   ]
  },
  {
   "cell_type": "code",
   "execution_count": 26,
   "id": "469a9a53",
   "metadata": {},
   "outputs": [
    {
     "name": "stdout",
     "output_type": "stream",
     "text": [
      "Please Enter a number-1\n",
      "Please enter a positive number\n"
     ]
    }
   ],
   "source": [
    "#Ans 1\n",
    "try:\n",
    "    spam=int(input('Please Enter a number'))\n",
    "    assert spam>0, 'Please enter a positive number'\n",
    "except AssertionError as ae:\n",
    "    print(ae)"
   ]
  },
  {
   "cell_type": "markdown",
   "id": "9d74abae",
   "metadata": {},
   "source": [
    "2. Write an assert statement that triggers an AssertionError if the variables eggs and bacon contain strings that are the same as each other, even if their cases are different (that is, 'hello' and 'hello' are considered the same, and 'goodbye' and 'GOODbye' are also considered the same)."
   ]
  },
  {
   "cell_type": "code",
   "execution_count": 46,
   "id": "4224902d",
   "metadata": {},
   "outputs": [
    {
     "name": "stdout",
     "output_type": "stream",
     "text": [
      "Please enter the 1st word: india\n",
      "Please enter the 2nd word: INDIA\n"
     ]
    }
   ],
   "source": [
    "#Ans 2\n",
    "eggs=input('Please enter the 1st word: ')\n",
    "bacon=input('Please enter the 2nd word: ')\n",
    "try:\n",
    "    assert (eggs.lower()==bacon.lower()), \"Both words can't be the same\"\n",
    "except AssertionError as ae:\n",
    "    print(ae)"
   ]
  },
  {
   "cell_type": "markdown",
   "id": "3f3e44c8",
   "metadata": {},
   "source": [
    "3. Create an assert statement that throws an AssertionError every time."
   ]
  },
  {
   "cell_type": "code",
   "execution_count": 48,
   "id": "cb3ae3ed",
   "metadata": {},
   "outputs": [
    {
     "name": "stdout",
     "output_type": "stream",
     "text": [
      "You can not get rid of this error\n"
     ]
    }
   ],
   "source": [
    "#Ans 3\n",
    "try:\n",
    "    assert False,'You can not get rid of this error'\n",
    "except AssertionError as ae:\n",
    "    print(ae)\n",
    "    "
   ]
  },
  {
   "cell_type": "markdown",
   "id": "62881953",
   "metadata": {},
   "source": [
    "4. What are the two lines that must be present in your software in order to call logging.debug()?"
   ]
  },
  {
   "cell_type": "code",
   "execution_count": 49,
   "id": "8ca58702",
   "metadata": {},
   "outputs": [],
   "source": [
    "#Ans 4\n",
    "import logging\n",
    "logging.basicConfig(filename='logging.log', level=logging.DEBUG,filemode='w' )"
   ]
  },
  {
   "cell_type": "markdown",
   "id": "5ab05e2c",
   "metadata": {},
   "source": [
    "5. What are the two lines that your program must have in order to have logging.debug() send a logging message to a file named programLog.txt?"
   ]
  },
  {
   "cell_type": "code",
   "execution_count": null,
   "id": "0f1a5abe",
   "metadata": {},
   "outputs": [],
   "source": [
    "#Ans 5:\n",
    "import logging\n",
    "logging.basicConfig(filename='programLog.txt', level=logging.DEBUG,filemode='w' )"
   ]
  },
  {
   "cell_type": "markdown",
   "id": "4feda439",
   "metadata": {},
   "source": [
    "6. What are the five levels of logging?\n",
    "\n",
    "Critical\n",
    "Error\n",
    "Warning\n",
    "Info\n",
    "Debug"
   ]
  },
  {
   "cell_type": "markdown",
   "id": "255e9393",
   "metadata": {},
   "source": [
    "7. What line of code would you add to your software to disable all logging messages?"
   ]
  },
  {
   "cell_type": "code",
   "execution_count": null,
   "id": "5fc0f2c7",
   "metadata": {},
   "outputs": [],
   "source": [
    "#Ans 7\n",
    "import logging\n",
    "logging.disable(level='CRITICAL')"
   ]
  },
  {
   "cell_type": "markdown",
   "id": "9af1061a",
   "metadata": {},
   "source": [
    "8.Why is using logging messages better than using print() to display the same message?"
   ]
  },
  {
   "cell_type": "code",
   "execution_count": 51,
   "id": "952724b2",
   "metadata": {},
   "outputs": [],
   "source": [
    "#Ans 8\n",
    "\"\"\"\n",
    "logging is better as you can categorise the logging into different \n",
    "severity and log the messages based on the level of severity. Additionally\n",
    "you can add a timestamp to the message which can help you investigate \n",
    "the old issues as well.\n",
    "\n",
    "\"\"\""
   ]
  },
  {
   "cell_type": "markdown",
   "id": "6ec75360",
   "metadata": {},
   "source": [
    "9. What are the differences between the Step Over, Step In, and Step Out buttons in the debugger?"
   ]
  },
  {
   "cell_type": "code",
   "execution_count": null,
   "id": "b79a40c9",
   "metadata": {},
   "outputs": [],
   "source": [
    "#Ans 9\n",
    "\"\"\"\n",
    "step over: it doesn't get inside a class or functions\n",
    "and run them as a single process\n",
    "Step in: it gets inside a function/class and debug it\n",
    "Step out: it gets out of the function/class after debugging it.\n",
    "\n",
    "\n",
    "\"\"\"\n",
    "    "
   ]
  },
  {
   "cell_type": "markdown",
   "id": "d0be8b65",
   "metadata": {},
   "source": [
    "Q10. After you click Continue, when will the debugger stop ?\n",
    "Ans 10:  when a break point is encountered."
   ]
  },
  {
   "cell_type": "markdown",
   "id": "c1deefe4",
   "metadata": {},
   "source": [
    "Q11. What is the concept of a breakpoint?\n",
    "Ans 11: it is an intentional stopping or pausing place in a program."
   ]
  }
 ],
 "metadata": {
  "kernelspec": {
   "display_name": "Python 3 (ipykernel)",
   "language": "python",
   "name": "python3"
  },
  "language_info": {
   "codemirror_mode": {
    "name": "ipython",
    "version": 3
   },
   "file_extension": ".py",
   "mimetype": "text/x-python",
   "name": "python",
   "nbconvert_exporter": "python",
   "pygments_lexer": "ipython3",
   "version": "3.9.12"
  }
 },
 "nbformat": 4,
 "nbformat_minor": 5
}
