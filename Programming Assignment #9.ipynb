{
 "cells": [
  {
   "cell_type": "markdown",
   "id": "a7117469",
   "metadata": {},
   "source": [
    "1.\tWrite a Python program to check if the given number is a Disarium Number?\n",
    "2.\tWrite a Python program to print all disarium numbers between 1 to 100?\n",
    "3.\tWrite a Python program to check if the given number is Happy Number?\n",
    "4.\tWrite a Python program to print all happy numbers between 1 and 100? \n",
    "5.\tWrite a Python program to determine whether the given number is a Harshad Number?\n",
    "6.\tWrite a Python program to print all pronic numbers between 1 and 100?\n"
   ]
  },
  {
   "cell_type": "code",
   "execution_count": 13,
   "id": "ea2149c7",
   "metadata": {},
   "outputs": [
    {
     "name": "stdout",
     "output_type": "stream",
     "text": [
      "please enter a number: 515\n",
      "it is not a disarium number\n"
     ]
    }
   ],
   "source": [
    "#Ans 1 Write a Python program to check if the given number is a Disarium Number?\n",
    "count=0\n",
    "sum=0\n",
    "num=input('please enter a number: ')\n",
    "for i in num:\n",
    "    \n",
    "    sum=int(i)**(count+1)+sum\n",
    "    count+=1\n",
    "if sum==int(num):\n",
    "    print('it is a disarium number')\n",
    "else:\n",
    "    print('it is not a disarium number')"
   ]
  },
  {
   "cell_type": "code",
   "execution_count": 38,
   "id": "d7f1617d",
   "metadata": {},
   "outputs": [
    {
     "name": "stdout",
     "output_type": "stream",
     "text": [
      "[1, 2, 3, 4, 5, 6, 7, 8, 9, 89]\n"
     ]
    }
   ],
   "source": [
    "#Ans 2: Write a Python program to print all disarium numbers between 1 to 100?\n",
    "\n",
    "count=0\n",
    "sum=0\n",
    "l=[]\n",
    "for i in range(1,101):\n",
    "    if len(str(i))==1:\n",
    "        sum=int(i)\n",
    "        if sum==i:\n",
    "            l.append(sum)\n",
    "    else:\n",
    "        for j in str(i):\n",
    "            sum=int(j)**(count+1)+sum\n",
    "            count+=1\n",
    "            if sum==i:\n",
    "                l.append(sum)\n",
    "    sum=0\n",
    "    count=0\n",
    "print(l)\n",
    "    \n"
   ]
  },
  {
   "cell_type": "code",
   "execution_count": 11,
   "id": "6937f023",
   "metadata": {},
   "outputs": [
    {
     "name": "stdout",
     "output_type": "stream",
     "text": [
      "enter a number: 49\n",
      "it is a happy number\n"
     ]
    }
   ],
   "source": [
    "#Ans 3: Write a Python program to check if the given number is Happy Number?\n",
    "sum=0\n",
    "num=input('enter a number: ')\n",
    "while len(str(num))>1:\n",
    "    sum=0\n",
    "\n",
    "    for i in str(num):\n",
    "        sum=int(i)**2+sum\n",
    "   \n",
    "    num=sum\n",
    "\n",
    "\n",
    "if sum==1:\n",
    "    print('it is a happy number')\n",
    "else:\n",
    "    print('it is not a happy number')\n"
   ]
  },
  {
   "cell_type": "code",
   "execution_count": null,
   "id": "9b6ced6c",
   "metadata": {},
   "outputs": [],
   "source": [
    "#Ans 4: Write a Python program to print all happy numbers between 1 and 100?\n",
    "\n",
    "sum=0\n",
    "num=input('enter a number: ')\n",
    "while len(str(num))>1:\n",
    "    sum=0\n",
    "\n",
    "    for i in str(num):\n",
    "        sum=int(i)**2+sum\n",
    "   \n",
    "    num=sum\n",
    "\n",
    "\n",
    "if sum==1:\n",
    "    print('it is a happy number')\n",
    "else:\n",
    "    print('it is not a happy number')\n"
   ]
  },
  {
   "cell_type": "code",
   "execution_count": 6,
   "id": "a909d4e6",
   "metadata": {},
   "outputs": [
    {
     "name": "stdout",
     "output_type": "stream",
     "text": [
      "['1', '7', '10', '13', '19', '23', '28', '31', '32', '44', '49', '68', '70', '79', '82', '86', '91', '94', '97', '100']\n"
     ]
    }
   ],
   "source": [
    "l1=[]\n",
    "for i in range(0,101):\n",
    "    Flag=True\n",
    "    i=str(i)\n",
    "    \n",
    "    #print(i[1],type(i))\n",
    "    \n",
    "    sum=0\n",
    "    \n",
    "    count=i\n",
    "    while Flag:\n",
    "        for j in count:\n",
    "            sum=int(j)**2+sum \n",
    "        \n",
    "        \n",
    "        if sum<10:\n",
    "            if sum==1:\n",
    "                l1.append(i)\n",
    "                Flag=False\n",
    "            else:\n",
    "                break\n",
    "            \n",
    "        count=str(sum)\n",
    "        sum=0\n",
    "print(l1)\n",
    "        "
   ]
  },
  {
   "cell_type": "code",
   "execution_count": 6,
   "id": "d62a71dd",
   "metadata": {},
   "outputs": [
    {
     "name": "stdout",
     "output_type": "stream",
     "text": [
      "enter a number: 23\n",
      "it is not a harshad number\n"
     ]
    }
   ],
   "source": [
    "#Ans 5: Write a Python program to determine whether the given number is a Harshad Number?\n",
    "sum=0\n",
    "num=input('enter a number: ')\n",
    "for i in num:\n",
    "    sum=sum+int(i)\n",
    "if int(num)%sum==0:\n",
    "    print('it is a harshad number')\n",
    "else:\n",
    "    print('it is not a harshad number')"
   ]
  },
  {
   "cell_type": "code",
   "execution_count": 28,
   "id": "8d6c511c",
   "metadata": {},
   "outputs": [
    {
     "name": "stdout",
     "output_type": "stream",
     "text": [
      "the list of harshard numbers between 1 and 100 is: [12, 18, 20, 21, 24, 27, 30, 36, 40, 42, 45, 48, 50, 54, 60, 63, 70, 72, 80, 81, 84, 90, 100]\n"
     ]
    }
   ],
   "source": [
    "#Ans5.1 Write a Python program to determine Harshad Numbers between 1 and 100?\n",
    "sum=0\n",
    "l=[]\n",
    "for i in range(11,101):\n",
    "    sum=0\n",
    "    for j in str(i):\n",
    "        \n",
    "        sum=sum+int(j)\n",
    "    \n",
    "    if i%sum==0:\n",
    "        l.append(i)\n",
    "print(f'the list of harshard numbers between 1 and 100 is: {l}')"
   ]
  },
  {
   "cell_type": "code",
   "execution_count": 11,
   "id": "164582ca",
   "metadata": {
    "scrolled": true
   },
   "outputs": [
    {
     "name": "stdout",
     "output_type": "stream",
     "text": [
      "[2, 6, 12, 20, 30, 42, 56, 72, 90]\n"
     ]
    }
   ],
   "source": [
    "#Ans6: Write a Python program to print all pronic numbers between 1 and 100?\n",
    "l=[]\n",
    "for i in range(1,101):\n",
    "    if i*(i+1)<101:\n",
    "        l.append(i*(i+1))\n",
    "        \n",
    "print(l)\n",
    "        \n"
   ]
  }
 ],
 "metadata": {
  "kernelspec": {
   "display_name": "Python 3 (ipykernel)",
   "language": "python",
   "name": "python3"
  },
  "language_info": {
   "codemirror_mode": {
    "name": "ipython",
    "version": 3
   },
   "file_extension": ".py",
   "mimetype": "text/x-python",
   "name": "python",
   "nbconvert_exporter": "python",
   "pygments_lexer": "ipython3",
   "version": "3.9.12"
  }
 },
 "nbformat": 4,
 "nbformat_minor": 5
}
