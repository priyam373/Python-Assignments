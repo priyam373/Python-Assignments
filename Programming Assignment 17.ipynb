{
 "cells": [
  {
   "cell_type": "markdown",
   "id": "ef400191",
   "metadata": {},
   "source": [
    "questions to be done:\n",
    "2"
   ]
  },
  {
   "cell_type": "markdown",
   "id": "8dbb62bc",
   "metadata": {},
   "source": [
    "Question1. Create a function that takes three arguments a, b, c and returns the sum of the numbers that are evenly divided by c from the range a, b inclusive.\n",
    "Examples\n",
    "evenly_divisible(1, 10, 20) ➞ 0\n",
    "# No number between 1 and 10 can be evenly divided by 20.\n",
    "\n",
    "evenly_divisible(1, 10, 2) ➞ 30\n",
    "# 2 + 4 + 6 + 8 + 10 = 30\n",
    "\n",
    "evenly_divisible(1, 10, 3) ➞ 18\n",
    "# 3 + 6 + 9 = 18\n"
   ]
  },
  {
   "cell_type": "code",
   "execution_count": 7,
   "id": "2dfd8e6e",
   "metadata": {},
   "outputs": [],
   "source": [
    "def sum_of_numbers(a,b,c):\n",
    "    sum=0\n",
    "    for i in range(a,b+1):\n",
    "        if i%c==0:\n",
    "            sum=i+sum\n",
    "    print(f'The sum of the numbers that are evenly divided by the third number is: {sum}')"
   ]
  },
  {
   "cell_type": "code",
   "execution_count": 10,
   "id": "4645ae25",
   "metadata": {},
   "outputs": [
    {
     "name": "stdout",
     "output_type": "stream",
     "text": [
      "The sum of the numbers that are evenly divided by the third number is: 0\n"
     ]
    }
   ],
   "source": [
    "sum_of_numbers(1,10,20)"
   ]
  },
  {
   "cell_type": "markdown",
   "id": "bad0868d",
   "metadata": {},
   "source": [
    "Question2. Create a function that returns True if a given inequality expression is correct and False otherwise.\n",
    "Examples\n",
    "correct_signs(\"3 < 7 < 11\") ➞ True\n",
    "\n",
    "correct_signs(\"13 > 44 > 33 > 1\") ➞ False\n",
    "\n",
    "correct_signs(\"1 < 2 < 6 < 9 > 3\") ➞ True\n"
   ]
  },
  {
   "cell_type": "code",
   "execution_count": 21,
   "id": "1f609585",
   "metadata": {},
   "outputs": [],
   "source": [
    "def correct_signs(x):\n",
    "    if eval(x)==True:\n",
    "        return True\n",
    "    else:\n",
    "        return False\n",
    "        \n",
    "    "
   ]
  },
  {
   "cell_type": "code",
   "execution_count": 22,
   "id": "1eae9310",
   "metadata": {},
   "outputs": [
    {
     "data": {
      "text/plain": [
       "True"
      ]
     },
     "execution_count": 22,
     "metadata": {},
     "output_type": "execute_result"
    }
   ],
   "source": [
    "correct_signs(\"1 < 2 < 6 < 9 > 3\")"
   ]
  },
  {
   "cell_type": "markdown",
   "id": "ddd82317",
   "metadata": {},
   "source": [
    "#Q3 Question3. Create a function that replaces all the vowels in a string with a specified character.\n",
    "Examples\n",
    "replace_vowels(\"the aardvark\", \"#\") ➞ \"th# ##rdv#rk\"\n",
    "\n",
    "replace_vowels(\"minnie mouse\", \"?\") ➞ \"m?nn?? m??s?\"\n",
    "\n",
    "replace_vowels(\"shakespeare\", \"*\") ➞ \"sh*k*sp**r*\"\n"
   ]
  },
  {
   "cell_type": "code",
   "execution_count": 15,
   "id": "0174acab",
   "metadata": {},
   "outputs": [],
   "source": [
    "def vowel_replacement(a,b):\n",
    "    if type(a)==str and type(b)==str:\n",
    "        a=a.lower()\n",
    "        for i in a:\n",
    "            if i=='a' or i=='e' or i=='i' or i=='o' or i=='u':\n",
    "                i=b\n",
    "            print(i,end='')\n",
    "            \n",
    "    else:\n",
    "        print('Please Enter a string')\n",
    "        #Continue"
   ]
  },
  {
   "cell_type": "code",
   "execution_count": 17,
   "id": "b6687e5e",
   "metadata": {},
   "outputs": [
    {
     "name": "stdout",
     "output_type": "stream",
     "text": [
      "pr@y@m ch@t@rv@d@"
     ]
    }
   ],
   "source": [
    "vowel_replacement('priyam chaturvedi','@')"
   ]
  },
  {
   "cell_type": "markdown",
   "id": "218443c3",
   "metadata": {},
   "source": [
    "Question4. Write a function that calculates the factorial of a number recursively.\n",
    "Examples\n",
    "factorial(5) ➞ 120\n",
    "\n",
    "factorial(3) ➞ 6\n",
    "\n",
    "factorial(1) ➞ 1\n",
    "\n",
    "factorial(0) ➞ 1\n"
   ]
  },
  {
   "cell_type": "code",
   "execution_count": 11,
   "id": "b65c96c2",
   "metadata": {},
   "outputs": [],
   "source": [
    "#Ans 4 non recursive function\n",
    "def factorial(x):\n",
    "    fact=1\n",
    "    \"\"\"\n",
    "    this function is to calculate the factorial value of a given number.\n",
    "    \"\"\"\n",
    "    if x<0:\n",
    "        print('please enter a positive number')\n",
    "    else:\n",
    "        for i in range(x,0,-1):\n",
    "            fact=i*fact\n",
    "        print(fact)"
   ]
  },
  {
   "cell_type": "code",
   "execution_count": 12,
   "id": "fadced1b",
   "metadata": {},
   "outputs": [],
   "source": [
    "# recursive function for fictorial\n",
    "def rec_fact(n):\n",
    "    if n==1:\n",
    "        return n\n",
    "    elif n==0:\n",
    "        return 1\n",
    "    elif n<0:\n",
    "        print('Please enter a positive number')\n",
    "    else:\n",
    "        return n*rec_fact(n-1)"
   ]
  },
  {
   "cell_type": "code",
   "execution_count": 14,
   "id": "4929f870",
   "metadata": {},
   "outputs": [
    {
     "name": "stdout",
     "output_type": "stream",
     "text": [
      "1\n"
     ]
    }
   ],
   "source": [
    "factorial(0)"
   ]
  },
  {
   "cell_type": "markdown",
   "id": "a332e3a0",
   "metadata": {},
   "source": [
    "#Q5 Hamming distance is the number of characters that differ between two strings.\n",
    "To illustrate:\n",
    "String1: \"abcbba\"\n",
    "String2: \"abcbda\"\n",
    "\n",
    "Hamming Distance: 1 - \"b\" vs. \"d\" is the only difference.\n",
    "Create a function that computes the hamming distance between two strings.\n",
    "Examples\n",
    "hamming_distance(\"abcde\", \"bcdef\") ➞ 5\n",
    "\n",
    "hamming_distance(\"abcde\", \"abcde\") ➞ 0\n",
    "\n",
    "hamming_distance(\"strong\", \"strung\") ➞ 1\n"
   ]
  },
  {
   "cell_type": "code",
   "execution_count": 26,
   "id": "385ecec5",
   "metadata": {},
   "outputs": [],
   "source": [
    "#Ans 5:\n",
    "def hamming_distance(a,b):\n",
    "    \"\"\"\n",
    "    This function is to find the difference between characters in two strings.\n",
    "    \"\"\"\n",
    "    num=0\n",
    "    for i in range(0,len(a)):\n",
    "    \n",
    "        for j in range(0,len(b)):\n",
    "            if i==j:\n",
    "                if a[i]!=b[j]:\n",
    "                \n",
    "                    num+=1\n",
    "    print(num)"
   ]
  },
  {
   "cell_type": "code",
   "execution_count": 27,
   "id": "bf19620e",
   "metadata": {},
   "outputs": [
    {
     "name": "stdout",
     "output_type": "stream",
     "text": [
      "3\n"
     ]
    }
   ],
   "source": [
    "hamming_distance('abc','cda')"
   ]
  },
  {
   "cell_type": "code",
   "execution_count": null,
   "id": "6cf42238",
   "metadata": {},
   "outputs": [],
   "source": [
    "num=num+1 is to use to iterate the loop since a='abcd' print(num) is 4 if a='abcde' then print(num) is 5"
   ]
  }
 ],
 "metadata": {
  "kernelspec": {
   "display_name": "Python 3 (ipykernel)",
   "language": "python",
   "name": "python3"
  },
  "language_info": {
   "codemirror_mode": {
    "name": "ipython",
    "version": 3
   },
   "file_extension": ".py",
   "mimetype": "text/x-python",
   "name": "python",
   "nbconvert_exporter": "python",
   "pygments_lexer": "ipython3",
   "version": "3.9.12"
  }
 },
 "nbformat": 4,
 "nbformat_minor": 5
}
