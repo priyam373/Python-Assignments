{
 "cells": [
  {
   "cell_type": "markdown",
   "id": "4599f570",
   "metadata": {},
   "source": [
    "1.\tWrite a Python Program to find sum of array?\n",
    "2.\tWrite a Python Program to find largest element in an array?\n",
    "3.\tWrite a Python Program for array rotation?\n",
    "4.\tWrite a Python Program to Split the array and add the first part to the end?\n",
    "5.\tWrite a Python Program to check if given array is Monotonic?\n"
   ]
  },
  {
   "cell_type": "code",
   "execution_count": 1,
   "id": "b8288a48",
   "metadata": {},
   "outputs": [],
   "source": [
    "import numpy as np"
   ]
  },
  {
   "cell_type": "code",
   "execution_count": 15,
   "id": "4a378625",
   "metadata": {},
   "outputs": [
    {
     "name": "stdout",
     "output_type": "stream",
     "text": [
      "how many elements you want to enter in an array2\n",
      "enter the i element3\n",
      "enter the i element4\n",
      "the sum of the array elements is 7\n"
     ]
    }
   ],
   "source": [
    "#Ans 1 Write a Python Program to find sum of array?\n",
    "no_of_ele=int(input('how many elements you want to enter in an array: '))\n",
    "l=[]\n",
    "sum=0\n",
    "for i in range(no_of_ele):\n",
    "    num=int(input(f'enter the i element'))\n",
    "    l.append(num)\n",
    "a=np.array(l)\n",
    "\n",
    "for i in a:\n",
    "    sum=i+sum\n",
    "print(f'the sum of the array elements is {sum}')\n",
    "\n"
   ]
  },
  {
   "cell_type": "code",
   "execution_count": 19,
   "id": "df85ce73",
   "metadata": {},
   "outputs": [
    {
     "name": "stdout",
     "output_type": "stream",
     "text": [
      "how many elements you want to enter in an array: 5\n",
      "enter the i element2\n",
      "enter the i element23\n",
      "enter the i element32\n",
      "enter the i element12\n",
      "enter the i element11\n",
      "the largest element is: 32\n"
     ]
    }
   ],
   "source": [
    "#Ans 2: Write a Python Program to find largest element in an array?\n",
    "\n",
    "no_of_ele=int(input('how many elements you want to enter in an array: '))\n",
    "l=[]\n",
    "sum=0\n",
    "for i in range(no_of_ele):\n",
    "    num=int(input(f'enter the i element'))\n",
    "    l.append(num)\n",
    "a=np.array(l)\n",
    "maximum=max(a)\n",
    "print(f'the largest element is: {maximum}')"
   ]
  },
  {
   "cell_type": "code",
   "execution_count": 44,
   "id": "533301ef",
   "metadata": {},
   "outputs": [],
   "source": [
    "#Ans3.1: Write a Python Program for array rotation?\n",
    "#array rotation via transpose\n",
    "def transpose(arr):\n",
    "    print(arr.T)\n"
   ]
  },
  {
   "cell_type": "code",
   "execution_count": 56,
   "id": "cda9dd5f",
   "metadata": {},
   "outputs": [],
   "source": [
    "#Ans3.2: Write a Python Program for array rotation?\n",
    "def array_rot(arr,d):\n",
    "    \"\"\"\n",
    "    This function is to rotate a 1D array by d elements.\n",
    "    \"\"\"\n",
    "    #n= number of elements in an array.\n",
    "    #d= number by which the array elements need to be rotated.\n",
    "    n=len(arr)\n",
    "    arr=arr[d:n]+arr[0:d]\n",
    "    return np.array(arr)\n",
    "\n"
   ]
  },
  {
   "cell_type": "code",
   "execution_count": 57,
   "id": "6d7a4299",
   "metadata": {
    "scrolled": true
   },
   "outputs": [],
   "source": [
    "#Ans 4: Write a Python Program to Split the array and add the first part to the end?\n",
    "def arr_rotation (arr,n):\n",
    "    #n = number of elements by which the array needs to be split\n",
    "    length=len(arr)\n",
    "    arr=arr[n:length]+arr[0:n]\n",
    "    return np.array(arr)"
   ]
  },
  {
   "cell_type": "code",
   "execution_count": 58,
   "id": "7cfd2098",
   "metadata": {},
   "outputs": [
    {
     "data": {
      "text/plain": [
       "array([4, 5, 1, 2, 3])"
      ]
     },
     "execution_count": 58,
     "metadata": {},
     "output_type": "execute_result"
    }
   ],
   "source": [
    "arr_rotation([1,2,3,4,5],3)"
   ]
  },
  {
   "cell_type": "code",
   "execution_count": 43,
   "id": "c4914392",
   "metadata": {},
   "outputs": [
    {
     "name": "stdout",
     "output_type": "stream",
     "text": [
      "it is not monotonic\n"
     ]
    }
   ],
   "source": [
    "#Ans 5: Write a Python Program to check if given array is Monotonic?\n",
    "import numpy as np\n",
    "arr=np.array([1,2,3,4,0])\n",
    "count=1\n",
    "count1=1\n",
    "i=0\n",
    "j=0\n",
    "while count<len(arr) and arr[i]<arr[i+1]:\n",
    "    #print(count)\n",
    "    #print(arr[i],arr[i+1])\n",
    "    i+=1\n",
    "    count+=1\n",
    "while count1<len(arr) and arr[j]>arr[j+1]:\n",
    "    j+=1\n",
    "    count1+=1\n",
    "if (count1==len(arr)) or (count==len(arr)):\n",
    "    \n",
    "    print('it is monotonic')\n",
    "else:\n",
    "    print('it is not monotonic')"
   ]
  }
 ],
 "metadata": {
  "kernelspec": {
   "display_name": "Python 3 (ipykernel)",
   "language": "python",
   "name": "python3"
  },
  "language_info": {
   "codemirror_mode": {
    "name": "ipython",
    "version": 3
   },
   "file_extension": ".py",
   "mimetype": "text/x-python",
   "name": "python",
   "nbconvert_exporter": "python",
   "pygments_lexer": "ipython3",
   "version": "3.9.12"
  }
 },
 "nbformat": 4,
 "nbformat_minor": 5
}
